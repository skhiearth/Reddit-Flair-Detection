{
 "cells": [
  {
   "cell_type": "markdown",
   "metadata": {},
   "source": [
    "### Tokenization and Removing Stopwords"
   ]
  },
  {
   "cell_type": "code",
   "execution_count": 1,
   "metadata": {},
   "outputs": [],
   "source": [
    "import pandas as pd\n",
    "import numpy as np\n",
    "import string\n",
    "import re\n",
    "import nltk\n",
    "from nltk.corpus import stopwords\n",
    "from nltk.tokenize import RegexpTokenizer\n",
    "from nltk.stem import WordNetLemmatizer\n",
    "from nltk.stem.porter import PorterStemmer"
   ]
  },
  {
   "cell_type": "code",
   "execution_count": 2,
   "metadata": {},
   "outputs": [
    {
     "data": {
      "text/html": [
       "<div>\n",
       "<style scoped>\n",
       "    .dataframe tbody tr th:only-of-type {\n",
       "        vertical-align: middle;\n",
       "    }\n",
       "\n",
       "    .dataframe tbody tr th {\n",
       "        vertical-align: top;\n",
       "    }\n",
       "\n",
       "    .dataframe thead th {\n",
       "        text-align: right;\n",
       "    }\n",
       "</style>\n",
       "<table border=\"1\" class=\"dataframe\">\n",
       "  <thead>\n",
       "    <tr style=\"text-align: right;\">\n",
       "      <th></th>\n",
       "      <th>title</th>\n",
       "      <th>id</th>\n",
       "      <th>url</th>\n",
       "      <th>body</th>\n",
       "      <th>flair</th>\n",
       "    </tr>\n",
       "  </thead>\n",
       "  <tbody>\n",
       "    <tr>\n",
       "      <td>0</td>\n",
       "      <td>Will donate thrice the number of upvotes (amou...</td>\n",
       "      <td>981o7s</td>\n",
       "      <td>https://www.reddit.com/r/india/comments/981o7s...</td>\n",
       "      <td>&gt;**Note**: If you want to know what this is al...</td>\n",
       "      <td>[R]eddiquette</td>\n",
       "    </tr>\n",
       "    <tr>\n",
       "      <td>1</td>\n",
       "      <td>Indian reply to NYtimes cartoon on Paris clima...</td>\n",
       "      <td>6f10op</td>\n",
       "      <td>http://imgur.com/a/U48v9</td>\n",
       "      <td>NaN</td>\n",
       "      <td>/r/all</td>\n",
       "    </tr>\n",
       "  </tbody>\n",
       "</table>\n",
       "</div>"
      ],
      "text/plain": [
       "                                               title      id  \\\n",
       "0  Will donate thrice the number of upvotes (amou...  981o7s   \n",
       "1  Indian reply to NYtimes cartoon on Paris clima...  6f10op   \n",
       "\n",
       "                                                 url  \\\n",
       "0  https://www.reddit.com/r/india/comments/981o7s...   \n",
       "1                           http://imgur.com/a/U48v9   \n",
       "\n",
       "                                                body          flair  \n",
       "0  >**Note**: If you want to know what this is al...  [R]eddiquette  \n",
       "1                                                NaN         /r/all  "
      ]
     },
     "execution_count": 2,
     "metadata": {},
     "output_type": "execute_result"
    }
   ],
   "source": [
    "rawData = pd.read_csv(\"/Users/skhiearth/Desktop/Reddit-Flair-Detection/RedditData/Data/raw.csv\")\n",
    "rawData.head()\n",
    "\n",
    "rawData[\"flair\"].fillna(\"\", inplace = True)\n",
    "rawData.head(2)"
   ]
  },
  {
   "cell_type": "code",
   "execution_count": 3,
   "metadata": {},
   "outputs": [],
   "source": [
    "bad_chars = ['/r', 'r/', '[R]'] \n",
    "for i in bad_chars : \n",
    "    rawData['flair'] = rawData['flair'].str.replace(i, '')"
   ]
  },
  {
   "cell_type": "code",
   "execution_count": 4,
   "metadata": {},
   "outputs": [],
   "source": [
    "def remove_punctuation(text):\n",
    "    no_punct = \"\".join([c for c in text if c not in string.punctuation])\n",
    "    return no_punct\n",
    "\n",
    "rawData['title'] = rawData['title'].apply(lambda x:remove_punctuation(x))\n",
    "rawData['body'] = rawData['title'].apply(lambda x:remove_punctuation(x))\n",
    "rawData['flair'] = rawData['flair'].apply(lambda x:remove_punctuation(x))"
   ]
  },
  {
   "cell_type": "code",
   "execution_count": 5,
   "metadata": {},
   "outputs": [],
   "source": [
    "tokenizer = RegexpTokenizer(r'\\w+')\n",
    "rawData['title'] = rawData['title'].apply(lambda x: tokenizer.tokenize(x.lower()))\n",
    "rawData['body'] = rawData['body'].apply(lambda x: tokenizer.tokenize(x.lower()))"
   ]
  },
  {
   "cell_type": "code",
   "execution_count": 6,
   "metadata": {},
   "outputs": [],
   "source": [
    "def remove_stopwords(text):\n",
    "    words = [w for w in text if w not in stopwords.words('english')]\n",
    "    return words\n",
    "\n",
    "rawData['title'] = rawData['title'].apply(lambda x:remove_stopwords(x))\n",
    "rawData['body'] = rawData['title'].apply(lambda x:remove_stopwords(x))"
   ]
  },
  {
   "cell_type": "code",
   "execution_count": 7,
   "metadata": {},
   "outputs": [
    {
     "data": {
      "text/html": [
       "<div>\n",
       "<style scoped>\n",
       "    .dataframe tbody tr th:only-of-type {\n",
       "        vertical-align: middle;\n",
       "    }\n",
       "\n",
       "    .dataframe tbody tr th {\n",
       "        vertical-align: top;\n",
       "    }\n",
       "\n",
       "    .dataframe thead th {\n",
       "        text-align: right;\n",
       "    }\n",
       "</style>\n",
       "<table border=\"1\" class=\"dataframe\">\n",
       "  <thead>\n",
       "    <tr style=\"text-align: right;\">\n",
       "      <th></th>\n",
       "      <th>title</th>\n",
       "      <th>id</th>\n",
       "      <th>url</th>\n",
       "      <th>body</th>\n",
       "      <th>flair</th>\n",
       "    </tr>\n",
       "  </thead>\n",
       "  <tbody>\n",
       "    <tr>\n",
       "      <td>0</td>\n",
       "      <td>[donate, thrice, number, upvotes, amount, rs, ...</td>\n",
       "      <td>981o7s</td>\n",
       "      <td>https://www.reddit.com/r/india/comments/981o7s...</td>\n",
       "      <td>[donate, thrice, number, upvotes, amount, rs, ...</td>\n",
       "      <td>eddiquette</td>\n",
       "    </tr>\n",
       "    <tr>\n",
       "      <td>1</td>\n",
       "      <td>[indian, reply, nytimes, cartoon, paris, clima...</td>\n",
       "      <td>6f10op</td>\n",
       "      <td>http://imgur.com/a/U48v9</td>\n",
       "      <td>[indian, reply, nytimes, cartoon, paris, clima...</td>\n",
       "      <td>all</td>\n",
       "    </tr>\n",
       "    <tr>\n",
       "      <td>2</td>\n",
       "      <td>[essence, indian, soap, opera, distilled, one,...</td>\n",
       "      <td>8pymkp</td>\n",
       "      <td>https://gfycat.com/DigitalSparseAkitainu</td>\n",
       "      <td>[essence, indian, soap, opera, distilled, one,...</td>\n",
       "      <td>all</td>\n",
       "    </tr>\n",
       "    <tr>\n",
       "      <td>3</td>\n",
       "      <td>[fuck, religion]</td>\n",
       "      <td>f9outu</td>\n",
       "      <td>https://www.reddit.com/r/india/comments/f9outu...</td>\n",
       "      <td>[fuck, religion]</td>\n",
       "      <td>Politics</td>\n",
       "    </tr>\n",
       "    <tr>\n",
       "      <td>4</td>\n",
       "      <td>[german, exchange, student, iit, madras, sent,...</td>\n",
       "      <td>eev8g5</td>\n",
       "      <td>https://i.redd.it/j816l4c40i641.jpg</td>\n",
       "      <td>[german, exchange, student, iit, madras, sent,...</td>\n",
       "      <td>Politics</td>\n",
       "    </tr>\n",
       "  </tbody>\n",
       "</table>\n",
       "</div>"
      ],
      "text/plain": [
       "                                               title      id  \\\n",
       "0  [donate, thrice, number, upvotes, amount, rs, ...  981o7s   \n",
       "1  [indian, reply, nytimes, cartoon, paris, clima...  6f10op   \n",
       "2  [essence, indian, soap, opera, distilled, one,...  8pymkp   \n",
       "3                                   [fuck, religion]  f9outu   \n",
       "4  [german, exchange, student, iit, madras, sent,...  eev8g5   \n",
       "\n",
       "                                                 url  \\\n",
       "0  https://www.reddit.com/r/india/comments/981o7s...   \n",
       "1                           http://imgur.com/a/U48v9   \n",
       "2           https://gfycat.com/DigitalSparseAkitainu   \n",
       "3  https://www.reddit.com/r/india/comments/f9outu...   \n",
       "4                https://i.redd.it/j816l4c40i641.jpg   \n",
       "\n",
       "                                                body       flair  \n",
       "0  [donate, thrice, number, upvotes, amount, rs, ...  eddiquette  \n",
       "1  [indian, reply, nytimes, cartoon, paris, clima...         all  \n",
       "2  [essence, indian, soap, opera, distilled, one,...         all  \n",
       "3                                   [fuck, religion]    Politics  \n",
       "4  [german, exchange, student, iit, madras, sent,...    Politics  "
      ]
     },
     "execution_count": 7,
     "metadata": {},
     "output_type": "execute_result"
    }
   ],
   "source": [
    "rawData.head()"
   ]
  }
 ],
 "metadata": {
  "kernelspec": {
   "display_name": "Python 3.7.4 64-bit ('base': conda)",
   "language": "python",
   "name": "python37464bitbaseconda3f0d6be5914d434a9d7014ecd996a3a3"
  },
  "language_info": {
   "codemirror_mode": {
    "name": "ipython",
    "version": 3
   },
   "file_extension": ".py",
   "mimetype": "text/x-python",
   "name": "python",
   "nbconvert_exporter": "python",
   "pygments_lexer": "ipython3",
   "version": "3.7.4"
  }
 },
 "nbformat": 4,
 "nbformat_minor": 2
}
