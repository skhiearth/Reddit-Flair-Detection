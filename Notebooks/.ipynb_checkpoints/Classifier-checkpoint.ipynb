{
 "cells": [
  {
   "cell_type": "markdown",
   "metadata": {},
   "source": [
    "### Tokenization and Removing Stopwords"
   ]
  },
  {
   "cell_type": "code",
   "execution_count": 1,
   "metadata": {},
   "outputs": [],
   "source": [
    "import pandas as pd\n",
    "import numpy as np\n",
    "import matplotlib.pyplot as plt\n",
    "import seaborn as sns\n",
    "import string\n",
    "import re\n",
    "import nltk\n",
    "from nltk.corpus import stopwords"
   ]
  },
  {
   "cell_type": "code",
   "execution_count": 2,
   "metadata": {},
   "outputs": [
    {
     "data": {
      "text/html": [
       "<div>\n",
       "<style scoped>\n",
       "    .dataframe tbody tr th:only-of-type {\n",
       "        vertical-align: middle;\n",
       "    }\n",
       "\n",
       "    .dataframe tbody tr th {\n",
       "        vertical-align: top;\n",
       "    }\n",
       "\n",
       "    .dataframe thead th {\n",
       "        text-align: right;\n",
       "    }\n",
       "</style>\n",
       "<table border=\"1\" class=\"dataframe\">\n",
       "  <thead>\n",
       "    <tr style=\"text-align: right;\">\n",
       "      <th></th>\n",
       "      <th>flair</th>\n",
       "      <th>text</th>\n",
       "    </tr>\n",
       "  </thead>\n",
       "  <tbody>\n",
       "    <tr>\n",
       "      <td>0</td>\n",
       "      <td>AskIndia</td>\n",
       "      <td>Would Gandhi be called an anti national in 201...</td>\n",
       "    </tr>\n",
       "    <tr>\n",
       "      <td>1</td>\n",
       "      <td>AskIndia</td>\n",
       "      <td>MISSING PERSON IN RISHIKESH New York resident ...</td>\n",
       "    </tr>\n",
       "  </tbody>\n",
       "</table>\n",
       "</div>"
      ],
      "text/plain": [
       "      flair                                               text\n",
       "0  AskIndia  Would Gandhi be called an anti national in 201...\n",
       "1  AskIndia  MISSING PERSON IN RISHIKESH New York resident ..."
      ]
     },
     "execution_count": 2,
     "metadata": {},
     "output_type": "execute_result"
    }
   ],
   "source": [
    "rawData = pd.read_csv(\"/Users/skhiearth/Desktop/Reddit-Flair-Detection/RedditData/Data/balanced.csv\")\n",
    "\n",
    "rawData.drop(['Title', 'Url', 'Score', 'Publish Date'\n",
    "             ,'Total No. of Comments', 'Body'], axis = 1, inplace=True) \n",
    "\n",
    "rawData.head(2)"
   ]
  },
  {
   "cell_type": "markdown",
   "metadata": {},
   "source": [
    "### Text Cleaning"
   ]
  },
  {
   "cell_type": "code",
   "execution_count": 3,
   "metadata": {},
   "outputs": [],
   "source": [
    "bad_chars = ['/r', 'r/', '[R]'] \n",
    "for i in bad_chars : \n",
    "    rawData['flair'] = rawData['flair'].str.replace(i, '')"
   ]
  },
  {
   "cell_type": "code",
   "execution_count": 4,
   "metadata": {},
   "outputs": [],
   "source": [
    "def remove_punctuation(text):\n",
    "    no_punct = \"\".join([c for c in text if c not in string.punctuation])\n",
    "    return no_punct\n",
    "\n",
    "rawData['text'] = rawData['text'].apply(lambda x:remove_punctuation(x))\n",
    "rawData['flair'] = rawData['flair'].apply(lambda x:remove_punctuation(x))"
   ]
  },
  {
   "cell_type": "code",
   "execution_count": 5,
   "metadata": {},
   "outputs": [],
   "source": [
    "# tokenizer = RegexpTokenizer(r'\\w+')\n",
    "# rawData['text'] = rawData['text'].apply(lambda x: tokenizer.tokenize(x.lower()))\n",
    "# rawData['flair'] = rawData['flair'].apply(lambda x: tokenizer.tokenize(x.lower()))\n",
    "\n",
    "# def remove_stopwords(text):\n",
    "#     words = [w for w in text if w not in stopwords.words('english')]\n",
    "#     return words\n",
    "\n",
    "# rawData['text'] = rawData['text'].apply(lambda x:remove_stopwords(x))\n",
    "# rawData['flair'] = rawData['flair'].apply(lambda x:remove_stopwords(x))"
   ]
  },
  {
   "cell_type": "markdown",
   "metadata": {},
   "source": [
    "### Factorization"
   ]
  },
  {
   "cell_type": "code",
   "execution_count": 6,
   "metadata": {},
   "outputs": [
    {
     "data": {
      "text/html": [
       "<div>\n",
       "<style scoped>\n",
       "    .dataframe tbody tr th:only-of-type {\n",
       "        vertical-align: middle;\n",
       "    }\n",
       "\n",
       "    .dataframe tbody tr th {\n",
       "        vertical-align: top;\n",
       "    }\n",
       "\n",
       "    .dataframe thead th {\n",
       "        text-align: right;\n",
       "    }\n",
       "</style>\n",
       "<table border=\"1\" class=\"dataframe\">\n",
       "  <thead>\n",
       "    <tr style=\"text-align: right;\">\n",
       "      <th></th>\n",
       "      <th>flair</th>\n",
       "      <th>text</th>\n",
       "      <th>flair_id</th>\n",
       "    </tr>\n",
       "  </thead>\n",
       "  <tbody>\n",
       "    <tr>\n",
       "      <td>0</td>\n",
       "      <td>AskIndia</td>\n",
       "      <td>Would Gandhi be called an anti national in 201...</td>\n",
       "      <td>0</td>\n",
       "    </tr>\n",
       "    <tr>\n",
       "      <td>1</td>\n",
       "      <td>AskIndia</td>\n",
       "      <td>MISSING PERSON IN RISHIKESH New York resident ...</td>\n",
       "      <td>0</td>\n",
       "    </tr>\n",
       "  </tbody>\n",
       "</table>\n",
       "</div>"
      ],
      "text/plain": [
       "      flair                                               text  flair_id\n",
       "0  AskIndia  Would Gandhi be called an anti national in 201...         0\n",
       "1  AskIndia  MISSING PERSON IN RISHIKESH New York resident ...         0"
      ]
     },
     "execution_count": 6,
     "metadata": {},
     "output_type": "execute_result"
    }
   ],
   "source": [
    "from io import StringIO\n",
    "\n",
    "rawData['flair_id'] = rawData['flair'].factorize()[0]\n",
    "category_id_df = rawData[['flair', 'flair_id']].drop_duplicates().sort_values('flair_id')\n",
    "category_to_id = dict(category_id_df.values)\n",
    "id_to_category = dict(category_id_df[['flair', 'flair_id']].values)\n",
    "rawData.head(2)"
   ]
  },
  {
   "cell_type": "markdown",
   "metadata": {},
   "source": [
    "### Train-Test Split"
   ]
  },
  {
   "cell_type": "code",
   "execution_count": 7,
   "metadata": {},
   "outputs": [],
   "source": [
    "from sklearn.model_selection import train_test_split\n",
    "\n",
    "X = rawData.text\n",
    "y = rawData.flair_id\n",
    "X_train, X_test, y_train, y_test = train_test_split(X, y, test_size=0.2, random_state = 100)"
   ]
  },
  {
   "cell_type": "markdown",
   "metadata": {},
   "source": [
    "### Vectorization"
   ]
  },
  {
   "cell_type": "code",
   "execution_count": 8,
   "metadata": {},
   "outputs": [],
   "source": [
    "from sklearn.feature_extraction.text import TfidfVectorizer\n",
    "\n",
    "vect = TfidfVectorizer(stop_words='english').fit(X_train)\n",
    "\n",
    "tfidf_train = vect.transform(X_train)\n",
    "tfidf_test = vect.transform(X_test)\n",
    "\n",
    "X_train_vect = pd.DataFrame(tfidf_train.todense(), columns=vect.get_feature_names())\n",
    "X_test_vect = pd.DataFrame(tfidf_test.todense(), columns=vect.get_feature_names())\n",
    "\n",
    "# Used for fitting on the whole model later\n",
    "total_vect = TfidfVectorizer(stop_words='english').fit(rawData['text'])\n",
    "tfidf = total_vect.transform(rawData['text'])\n",
    "rawData_vect = pd.DataFrame(tfidf.todense(), columns=total_vect.get_feature_names())"
   ]
  },
  {
   "cell_type": "code",
   "execution_count": 9,
   "metadata": {},
   "outputs": [
    {
     "name": "stdout",
     "output_type": "stream",
     "text": [
      "X_train_vect has 13556 rows and 34802 columns and y_train also has 13556 rows.\n",
      "X_test_vect has 3389 rows and 34802 columns and y_train also has 3389 rows.\n"
     ]
    }
   ],
   "source": [
    "print(\"X_train_vect has {} rows and {} columns and y_train also has {} rows.\"\n",
    "      .format(X_train_vect.shape[0], X_train_vect.shape[1], y_train.shape[0]))\n",
    "\n",
    "print(\"X_test_vect has {} rows and {} columns and y_train also has {} rows.\"\n",
    "      .format(X_test_vect.shape[0], X_test_vect.shape[1], y_test.shape[0]))"
   ]
  },
  {
   "cell_type": "markdown",
   "metadata": {},
   "source": [
    "### Classification"
   ]
  },
  {
   "cell_type": "code",
   "execution_count": 10,
   "metadata": {},
   "outputs": [],
   "source": [
    "# from sklearn.naive_bayes import MultinomialNB\n",
    "# from sklearn.metrics import accuracy_score, classification_report\n",
    "\n",
    "# clf = MultinomialNB().fit(X_train_vect, y_train)\n",
    "\n",
    "# y_pred = clf.predict(X_test_vect)\n",
    "\n",
    "# print('accuracy %s' % accuracy_score(y_pred, y_test))\n",
    "# print(classification_report(y_test, y_pred))"
   ]
  },
  {
   "cell_type": "code",
   "execution_count": 11,
   "metadata": {},
   "outputs": [],
   "source": [
    "# from sklearn.linear_model import LogisticRegression\n",
    "# from sklearn.model_selection import GridSearchCV\n",
    "# from sklearn.metrics import accuracy_score, classification_report\n",
    "\n",
    "# searcher = LogisticRegression(multi_class='multinomial', solver='lbfgs')\n",
    "\n",
    "# # tolerance = [0.01, 0.001, 0.0001, 0.00001]\n",
    "# # m_iter = [50, 100, 150, 200, 250]\n",
    "# # c = [0.001, 0.01, 0.1, 1, 10, 100, 1000]\n",
    "# # sol = [\"newton-cg\", \"lbfgs\", \"sag\"]\n",
    "\n",
    "# # tolerance = [0.01]\n",
    "# # m_iter = [50]\n",
    "# # c = [0.001]\n",
    "# # sol = [\"newton-cg\"]\n",
    "\n",
    "# # grid = dict(tol = tolerance, \n",
    "# #             max_iter = m_iter,\n",
    "# #             C = c,\n",
    "# #             solver=sol)\n",
    "\n",
    "# # searcher = GridSearchCV(classifier, \n",
    "# #                         param_grid = grid,\n",
    "# #                         cv = 2, refit = True, verbose=1, n_jobs=-1)\n",
    "\n",
    "# searcher.fit(X_train_vect, y_train)\n",
    "\n",
    "# y_pred = searcher.predict(X_test_vect)\n",
    "\n",
    "# print('accuracy %s' % accuracy_score(y_pred, y_test))\n",
    "# print(classification_report(y_test, y_pred))"
   ]
  },
  {
   "cell_type": "code",
   "execution_count": 12,
   "metadata": {},
   "outputs": [],
   "source": [
    "# from sklearn.ensemble import RandomForestClassifier\n",
    "# from sklearn.metrics import accuracy_score, classification_report\n",
    "# from sklearn.model_selection import GridSearchCV\n",
    "\n",
    "# from pactools import simulate_pac\n",
    "# from pactools.grid_search import ExtractDriver, AddDriverDelay\n",
    "# from pactools.grid_search import DARSklearn, MultipleArray\n",
    "# from pactools.grid_search import GridSearchCVProgressBar\n",
    "\n",
    "# rf = RandomForestClassifier()\n",
    "\n",
    "# est = [50, 100, 150, 200, 250, 300, 350, 400]\n",
    "# depth = [None, 5, 7, 9, 11, 13, 15]\n",
    "\n",
    "# grid = dict(n_estimators = est, \n",
    "#             max_depth = depth)\n",
    "\n",
    "# # searcher = GridSearchCV(rf, param_grid = grid,\n",
    "# #                         cv = 2, refit = True, verbose=5, n_jobs=-1)\n",
    "\n",
    "# searcher = GridSearchCVProgressBar(rf, param_grid = grid,\n",
    "#                         cv = 2, refit = True, verbose=1, n_jobs=-1)\n",
    "\n",
    "# searcher.fit(X_train_vect, y_train)\n",
    "\n",
    "# y_pred = searcher.predict(X_test_vect)\n",
    "\n",
    "# print(searcher.best_params_)\n",
    "\n",
    "# print('accuracy %s' % accuracy_score(y_pred, y_test))\n",
    "# print(classification_report(y_test, y_pred))"
   ]
  },
  {
   "cell_type": "code",
   "execution_count": 13,
   "metadata": {},
   "outputs": [],
   "source": [
    "# from sklearn.ensemble import RandomForestClassifier\n",
    "# from sklearn.metrics import accuracy_score, classification_report\n",
    "\n",
    "# rf = RandomForestClassifier(n_estimators = 100).fit(X_train_vect, y_train)\n",
    "\n",
    "# y_pred = rf.predict(X_test_vect)\n",
    "\n",
    "# print('accuracy %s' % accuracy_score(y_pred, y_test))\n",
    "# print(classification_report(y_test, y_pred))"
   ]
  },
  {
   "cell_type": "code",
   "execution_count": 14,
   "metadata": {},
   "outputs": [],
   "source": [
    "# from xgboost import XGBClassifier \n",
    "# from sklearn.metrics import accuracy_score, classification_report\n",
    "\n",
    "# clf = XGBClassifier(objective='multi:softmax')\n",
    "\n",
    "# clf.fit(X_train_vect, y_train, verbose=True)\n",
    "\n",
    "# y_pred = clf.predict(X_test_vect)\n",
    "\n",
    "# print('accuracy %s' % accuracy_score(y_pred, y_test))\n",
    "# print(classification_report(y_test, y_pred))"
   ]
  },
  {
   "cell_type": "code",
   "execution_count": 15,
   "metadata": {},
   "outputs": [],
   "source": [
    "# from sklearn.linear_model import SGDClassifier\n",
    "# from sklearn.model_selection import GridSearchCV\n",
    "\n",
    "# sgd = SGDClassifier(loss='hinge', penalty='l2', alpha=1e-4, random_state=42, max_iter=18, tol=None)\n",
    "\n",
    "# sgd.fit(X_train_vect, y_train)\n",
    "\n",
    "# y_pred = sgd.predict(X_test_vect)\n",
    "\n",
    "# print('accuracy %s' % accuracy_score(y_pred, y_test))\n",
    "# print(classification_report(y_test, y_pred))"
   ]
  },
  {
   "cell_type": "code",
   "execution_count": 16,
   "metadata": {},
   "outputs": [
    {
     "name": "stdout",
     "output_type": "stream",
     "text": [
      "WARNING:tensorflow:From /opt/anaconda3/lib/python3.7/site-packages/tensorflow_core/python/ops/resource_variable_ops.py:1630: calling BaseResourceVariable.__init__ (from tensorflow.python.ops.resource_variable_ops) with constraint is deprecated and will be removed in a future version.\n",
      "Instructions for updating:\n",
      "If using Keras pass *_constraint arguments to layers.\n",
      "Train on 9489 samples, validate on 4067 samples\n",
      "Epoch 1/5\n",
      "9489/9489 [==============================] - 11s 1ms/sample - loss: 1.2176 - acc: 0.4999 - val_loss: 0.9943 - val_acc: 0.6405\n",
      "Epoch 2/5\n",
      "9489/9489 [==============================] - 10s 1ms/sample - loss: 0.6230 - acc: 0.7813 - val_loss: 1.0299 - val_acc: 0.6327\n",
      "Epoch 3/5\n",
      "9489/9489 [==============================] - 10s 1ms/sample - loss: 0.2246 - acc: 0.9382 - val_loss: 1.2475 - val_acc: 0.6147\n",
      "Epoch 4/5\n",
      "9489/9489 [==============================] - 10s 1ms/sample - loss: 0.0782 - acc: 0.9818 - val_loss: 1.4452 - val_acc: 0.6044\n",
      "Epoch 5/5\n",
      "9489/9489 [==============================] - 10s 1ms/sample - loss: 0.0350 - acc: 0.9918 - val_loss: 1.6275 - val_acc: 0.5997\n"
     ]
    }
   ],
   "source": [
    "# Initialising the ANN\n",
    "import tensorflow as tf\n",
    "\n",
    "model = tf.keras.models.Sequential([\n",
    "    tf.keras.layers.Dense(200, input_shape=(len(X_train_vect.columns),),\n",
    "                          activation=tf.nn.relu),   \n",
    "    tf.keras.layers.Dense(10, activation=tf.nn.relu),\n",
    "    tf.keras.layers.Dense(5, activation=tf.nn.softmax)\n",
    "])\n",
    "\n",
    "# Compiling the ANN\n",
    "model.compile(optimizer='adam', loss='sparse_categorical_crossentropy', metrics=['accuracy'])\n",
    "\n",
    "# Fitting the ANN to the Training set\n",
    "history = model.fit(X_train_vect, y_train, validation_split = 0.3, epochs = 5)"
   ]
  },
  {
   "cell_type": "code",
   "execution_count": 18,
   "metadata": {},
   "outputs": [
    {
     "data": {
      "image/png": "[encoded data removed]",
      "text/plain": [
       "<Figure size 432x288 with 1 Axes>"
      ]
     },
     "metadata": {
      "needs_background": "light"
     },
     "output_type": "display_data"
    },
    {
     "data": {
      "image/png": "[encoded data removed]",
      "text/plain": [
       "<Figure size 432x288 with 1 Axes>"
      ]
     },
     "metadata": {
      "needs_background": "light"
     },
     "output_type": "display_data"
    }
   ],
   "source": [
    "# Model Accuracy Visualisation\n",
    "plt.plot(history.history['acc'])\n",
    "plt.plot(history.history['val_acc'])\n",
    "plt.title('Model Accuracy')\n",
    "plt.ylabel('Accuracy')\n",
    "plt.xlabel('Epoch')\n",
    "plt.legend(['Train', 'Validation'], loc='lower right')\n",
    "plt.show()\n",
    "\n",
    "# Model Loss Visualisation\n",
    "plt.plot(history.history['loss'])\n",
    "plt.plot(history.history['val_loss'])\n",
    "plt.title('Model Loss')\n",
    "plt.ylabel('loss')\n",
    "plt.xlabel('Epoch')\n",
    "plt.legend(['Train', 'Validation'], loc='upper right')\n",
    "plt.show()"
   ]
  }
 ],
 "metadata": {
  "kernelspec": {
   "display_name": "Python 3.7.4 64-bit ('base': conda)",
   "language": "python",
   "name": "python37464bitbaseconda3f0d6be5914d434a9d7014ecd996a3a3"
  },
  "language_info": {
   "codemirror_mode": {
    "name": "ipython",
    "version": 3
   },
   "file_extension": ".py",
   "mimetype": "text/x-python",
   "name": "python",
   "nbconvert_exporter": "python",
   "pygments_lexer": "ipython3",
   "version": "3.7.4"
  }
 },
 "nbformat": 4,
 "nbformat_minor": 2
}
