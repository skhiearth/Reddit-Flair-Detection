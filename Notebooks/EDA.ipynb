{
 "cells": [
  {
   "cell_type": "markdown",
   "metadata": {},
   "source": [
    "# Exploratory Data Analysis"
   ]
  },
  {
   "cell_type": "code",
   "execution_count": 12,
   "metadata": {},
   "outputs": [],
   "source": [
    "# Importing required packages\n",
    "import pandas as pd\n",
    "import numpy as np\n",
    "import matplotlib.pyplot as plt\n",
    "%matplotlib inline\n",
    "import seaborn as sns\n",
    "\n",
    "import nltk\n",
    "from nltk.corpus import stopwords\n",
    "from nltk.classify import SklearnClassifier\n",
    "\n",
    "from wordcloud import WordCloud,STOPWORDS"
   ]
  },
  {
   "cell_type": "markdown",
   "metadata": {},
   "source": [
    "### 1. Importing "
   ]
  },
  {
   "cell_type": "markdown",
   "metadata": {},
   "source": [
    "Importing the dataset and inspecting the first five rows."
   ]
  },
  {
   "cell_type": "code",
   "execution_count": 3,
   "metadata": {},
   "outputs": [
    {
     "data": {
      "text/html": [
       "<div>\n",
       "<style scoped>\n",
       "    .dataframe tbody tr th:only-of-type {\n",
       "        vertical-align: middle;\n",
       "    }\n",
       "\n",
       "    .dataframe tbody tr th {\n",
       "        vertical-align: top;\n",
       "    }\n",
       "\n",
       "    .dataframe thead th {\n",
       "        text-align: right;\n",
       "    }\n",
       "</style>\n",
       "<table border=\"1\" class=\"dataframe\">\n",
       "  <thead>\n",
       "    <tr style=\"text-align: right;\">\n",
       "      <th></th>\n",
       "      <th>title</th>\n",
       "      <th>id</th>\n",
       "      <th>url</th>\n",
       "      <th>body</th>\n",
       "      <th>flair</th>\n",
       "    </tr>\n",
       "  </thead>\n",
       "  <tbody>\n",
       "    <tr>\n",
       "      <td>0</td>\n",
       "      <td>Will donate thrice the number of upvotes (amou...</td>\n",
       "      <td>981o7s</td>\n",
       "      <td>https://www.reddit.com/r/india/comments/981o7s...</td>\n",
       "      <td>&gt;**Note**: If you want to know what this is al...</td>\n",
       "      <td>[R]eddiquette</td>\n",
       "    </tr>\n",
       "    <tr>\n",
       "      <td>1</td>\n",
       "      <td>Indian reply to NYtimes cartoon on Paris clima...</td>\n",
       "      <td>6f10op</td>\n",
       "      <td>http://imgur.com/a/U48v9</td>\n",
       "      <td>NaN</td>\n",
       "      <td>/r/all</td>\n",
       "    </tr>\n",
       "    <tr>\n",
       "      <td>2</td>\n",
       "      <td>The essence of the Indian soap opera, distille...</td>\n",
       "      <td>8pymkp</td>\n",
       "      <td>https://gfycat.com/DigitalSparseAkitainu</td>\n",
       "      <td>NaN</td>\n",
       "      <td>r/all</td>\n",
       "    </tr>\n",
       "    <tr>\n",
       "      <td>3</td>\n",
       "      <td>Fuck all Religion</td>\n",
       "      <td>f9outu</td>\n",
       "      <td>https://www.reddit.com/r/india/comments/f9outu...</td>\n",
       "      <td>Fuck all religion. Fuck Hindusim, fuck Islam, ...</td>\n",
       "      <td>Politics</td>\n",
       "    </tr>\n",
       "    <tr>\n",
       "      <td>4</td>\n",
       "      <td>German exchange Student at IIT Madras is being...</td>\n",
       "      <td>eev8g5</td>\n",
       "      <td>https://i.redd.it/j816l4c40i641.jpg</td>\n",
       "      <td>NaN</td>\n",
       "      <td>Politics</td>\n",
       "    </tr>\n",
       "  </tbody>\n",
       "</table>\n",
       "</div>"
      ],
      "text/plain": [
       "                                               title      id  \\\n",
       "0  Will donate thrice the number of upvotes (amou...  981o7s   \n",
       "1  Indian reply to NYtimes cartoon on Paris clima...  6f10op   \n",
       "2  The essence of the Indian soap opera, distille...  8pymkp   \n",
       "3                                  Fuck all Religion  f9outu   \n",
       "4  German exchange Student at IIT Madras is being...  eev8g5   \n",
       "\n",
       "                                                 url  \\\n",
       "0  https://www.reddit.com/r/india/comments/981o7s...   \n",
       "1                           http://imgur.com/a/U48v9   \n",
       "2           https://gfycat.com/DigitalSparseAkitainu   \n",
       "3  https://www.reddit.com/r/india/comments/f9outu...   \n",
       "4                https://i.redd.it/j816l4c40i641.jpg   \n",
       "\n",
       "                                                body          flair  \n",
       "0  >**Note**: If you want to know what this is al...  [R]eddiquette  \n",
       "1                                                NaN         /r/all  \n",
       "2                                                NaN          r/all  \n",
       "3  Fuck all religion. Fuck Hindusim, fuck Islam, ...       Politics  \n",
       "4                                                NaN       Politics  "
      ]
     },
     "execution_count": 3,
     "metadata": {},
     "output_type": "execute_result"
    }
   ],
   "source": [
    "rawData = pd.read_csv(\"/Users/skhiearth/Desktop/Reddit-Flair-Detection/RedditData/Data/raw.csv\")\n",
    "rawData.head()"
   ]
  },
  {
   "cell_type": "code",
   "execution_count": 17,
   "metadata": {},
   "outputs": [
    {
     "name": "stdout",
     "output_type": "stream",
     "text": [
      "The data has 988 rows and 5 columns.\n"
     ]
    }
   ],
   "source": [
    "print(\"The data has {} rows and {} columns.\".format(rawData.shape[0], rawData.shape[1]))"
   ]
  },
  {
   "cell_type": "code",
   "execution_count": 21,
   "metadata": {},
   "outputs": [
    {
     "data": {
      "text/plain": [
       "title      0\n",
       "id         0\n",
       "url        0\n",
       "body     923\n",
       "flair      1\n",
       "dtype: int64"
      ]
     },
     "execution_count": 21,
     "metadata": {},
     "output_type": "execute_result"
    }
   ],
   "source": [
    "rawData.isnull().sum()"
   ]
  },
  {
   "cell_type": "code",
   "execution_count": null,
   "metadata": {},
   "outputs": [],
   "source": []
  }
 ],
 "metadata": {
  "kernelspec": {
   "display_name": "Python 3.7.4 64-bit ('base': conda)",
   "language": "python",
   "name": "python37464bitbaseconda3f0d6be5914d434a9d7014ecd996a3a3"
  },
  "language_info": {
   "codemirror_mode": {
    "name": "ipython",
    "version": 3
   },
   "file_extension": ".py",
   "mimetype": "text/x-python",
   "name": "python",
   "nbconvert_exporter": "python",
   "pygments_lexer": "ipython3",
   "version": "3.7.4"
  }
 },
 "nbformat": 4,
 "nbformat_minor": 2
}
