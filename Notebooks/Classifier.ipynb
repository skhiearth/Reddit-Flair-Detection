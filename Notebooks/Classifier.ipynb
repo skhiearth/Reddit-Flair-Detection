{
 "cells": [
  {
   "cell_type": "markdown",
   "metadata": {},
   "source": [
    "### Tokenization and Removing Stopwords"
   ]
  },
  {
   "cell_type": "code",
   "execution_count": 1,
   "metadata": {},
   "outputs": [
    {
     "name": "stderr",
     "output_type": "stream",
     "text": [
      "Using TensorFlow backend.\n"
     ]
    }
   ],
   "source": [
    "import pandas as pd\n",
    "import numpy as np\n",
    "import matplotlib.pyplot as plt\n",
    "import seaborn as sns\n",
    "import string\n",
    "import re\n",
    "import nltk\n",
    "from nltk.corpus import stopwords\n",
    "from nltk import word_tokenize\n",
    "\n",
    "from keras.preprocessing.text import Tokenizer\n",
    "from keras.preprocessing.sequence import pad_sequences\n",
    "from keras.models import Sequential\n",
    "from keras.layers import Dense, Embedding, LSTM, SpatialDropout1D\n",
    "from sklearn.model_selection import train_test_split\n",
    "from keras.utils.np_utils import to_categorical\n",
    "from keras.callbacks import EarlyStopping\n",
    "from keras.layers import Dropout"
   ]
  },
  {
   "cell_type": "code",
   "execution_count": 2,
   "metadata": {},
   "outputs": [
    {
     "data": {
      "text/html": [
       "<div>\n",
       "<style scoped>\n",
       "    .dataframe tbody tr th:only-of-type {\n",
       "        vertical-align: middle;\n",
       "    }\n",
       "\n",
       "    .dataframe tbody tr th {\n",
       "        vertical-align: top;\n",
       "    }\n",
       "\n",
       "    .dataframe thead th {\n",
       "        text-align: right;\n",
       "    }\n",
       "</style>\n",
       "<table border=\"1\" class=\"dataframe\">\n",
       "  <thead>\n",
       "    <tr style=\"text-align: right;\">\n",
       "      <th></th>\n",
       "      <th>Title</th>\n",
       "      <th>flair</th>\n",
       "      <th>text</th>\n",
       "    </tr>\n",
       "  </thead>\n",
       "  <tbody>\n",
       "    <tr>\n",
       "      <td>0</td>\n",
       "      <td>The first draft of NRC or Assam has been relea...</td>\n",
       "      <td>Non-Political</td>\n",
       "      <td>The first draft of NRC or Assam has been relea...</td>\n",
       "    </tr>\n",
       "    <tr>\n",
       "      <td>1</td>\n",
       "      <td>What is the best and the fastest way to Double...</td>\n",
       "      <td>AskIndia</td>\n",
       "      <td>What is the best and the fastest way to Double...</td>\n",
       "    </tr>\n",
       "  </tbody>\n",
       "</table>\n",
       "</div>"
      ],
      "text/plain": [
       "                                               Title          flair  \\\n",
       "0  The first draft of NRC or Assam has been relea...  Non-Political   \n",
       "1  What is the best and the fastest way to Double...       AskIndia   \n",
       "\n",
       "                                                text  \n",
       "0  The first draft of NRC or Assam has been relea...  \n",
       "1  What is the best and the fastest way to Double...  "
      ]
     },
     "execution_count": 2,
     "metadata": {},
     "output_type": "execute_result"
    }
   ],
   "source": [
    "rawData = pd.read_csv(\"/Users/skhiearth/Desktop/Reddit-Flair-Detection/RedditData/Data/balanced.csv\")\n",
    "\n",
    "rawData.drop(['Url', 'Score', 'Publish Date'\n",
    "             ,'Total No. of Comments', 'Body'], axis = 1, inplace=True) \n",
    "\n",
    "rawData = rawData[rawData['flair'].notna()] # Dropping all submissions that don't have a tagged flair\n",
    "\n",
    "rawData.head(2)"
   ]
  },
  {
   "cell_type": "markdown",
   "metadata": {},
   "source": [
    "### Text Cleaning"
   ]
  },
  {
   "cell_type": "code",
   "execution_count": 3,
   "metadata": {},
   "outputs": [],
   "source": [
    "bad_chars = ['/r', 'r/', '[R]'] \n",
    "for i in bad_chars : \n",
    "    rawData['flair'] = rawData['flair'].str.replace(i, '')"
   ]
  },
  {
   "cell_type": "code",
   "execution_count": 4,
   "metadata": {},
   "outputs": [],
   "source": [
    "# def remove_punctuation(text):\n",
    "#     no_punct = \"\".join([c for c in text if c not in string.punctuation])\n",
    "#     return no_punct\n",
    "\n",
    "# rawData['Title'] = rawData['Title'].apply(lambda x:remove_punctuation(x))\n",
    "# rawData['text'] = rawData['text'].apply(lambda x:remove_punctuation(x))\n",
    "# rawData['flair'] = rawData['flair'].apply(lambda x:remove_punctuation(x))"
   ]
  },
  {
   "cell_type": "code",
   "execution_count": 5,
   "metadata": {},
   "outputs": [],
   "source": [
    "# tokenizer = RegexpTokenizer(r'\\w+')\n",
    "# rawData['text'] = rawData['text'].apply(lambda x: tokenizer.tokenize(x.lower()))\n",
    "# rawData['flair'] = rawData['flair'].apply(lambda x: tokenizer.tokenize(x.lower()))\n",
    "\n",
    "REPLACE_BY_SPACE_RE = re.compile('[/(){}\\[\\]\\|@,;]')\n",
    "BAD_SYMBOLS_RE = re.compile('[^0-9a-z #+_]')\n",
    "STOPWORDS = set(stopwords.words('english'))\n",
    "\n",
    "def clean_text(text):\n",
    "    text = str(text)\n",
    "    text = text.lower() \n",
    "    text = REPLACE_BY_SPACE_RE.sub(' ', text)\n",
    "    text = BAD_SYMBOLS_RE.sub('', text)\n",
    "    text = text.replace('x', '')\n",
    "    text = ' '.join(word for word in text.split() if word not in STOPWORDS) # remove stopwors from text\n",
    "    return text\n",
    "\n",
    "rawData['Title'] = rawData['Title'].apply(clean_text)\n",
    "rawData['text'] = rawData['text'].apply(clean_text)\n",
    "rawData['flair'] = rawData['flair'].apply(clean_text)"
   ]
  },
  {
   "cell_type": "code",
   "execution_count": 7,
   "metadata": {},
   "outputs": [
    {
     "data": {
      "text/plain": [
       "politics          23819\n",
       "nonpolitical      22159\n",
       "askindia          11928\n",
       "policy economy     4517\n",
       "eddiquette         2991\n",
       "Name: flair, dtype: int64"
      ]
     },
     "execution_count": 7,
     "metadata": {},
     "output_type": "execute_result"
    }
   ],
   "source": [
    "rawData['flair'].value_counts()\n",
    "# rawData = rawData.groupby('flair').head(2606).reset_index(drop=True)\n",
    "# rawData['flair'].value_counts()"
   ]
  },
  {
   "cell_type": "markdown",
   "metadata": {},
   "source": [
    "### LSTM"
   ]
  },
  {
   "cell_type": "code",
   "execution_count": 8,
   "metadata": {},
   "outputs": [
    {
     "name": "stdout",
     "output_type": "stream",
     "text": [
      "Found 42672 unique tokens.\n",
      "Shape of data tensor: (65414, 250)\n",
      "Shape of label tensor: (65414, 5)\n",
      "(58872, 250) (58872, 5)\n",
      "(6542, 250) (6542, 5)\n"
     ]
    }
   ],
   "source": [
    "# The maximum number of words to be used. (most frequent)\n",
    "MAX_NB_WORDS = 50000\n",
    "# Max number of words in each complaint.\n",
    "MAX_SEQUENCE_LENGTH = 250\n",
    "# This is fixed.\n",
    "EMBEDDING_DIM = 100\n",
    "\n",
    "tokenizer = Tokenizer(num_words=MAX_NB_WORDS, filters='!\"#$%&()*+,-./:;<=>?@[\\]^_`{|}~', lower=True)\n",
    "tokenizer.fit_on_texts(rawData['Title'].values)\n",
    "word_index = tokenizer.word_index\n",
    "print('Found %s unique tokens.' % len(word_index))\n",
    "\n",
    "X = tokenizer.texts_to_sequences(rawData['Title'].values)\n",
    "X = pad_sequences(X, maxlen=MAX_SEQUENCE_LENGTH)\n",
    "print('Shape of data tensor:', X.shape)\n",
    "\n",
    "Y = pd.get_dummies(rawData['flair']).values\n",
    "print('Shape of label tensor:', Y.shape)\n",
    "\n",
    "X_train, X_test, y_train, y_test = train_test_split(X, Y, test_size = 0.10, random_state = 42)\n",
    "print(X_train.shape,y_train.shape)\n",
    "print(X_test.shape,y_test.shape)"
   ]
  },
  {
   "cell_type": "code",
   "execution_count": null,
   "metadata": {},
   "outputs": [
    {
     "name": "stdout",
     "output_type": "stream",
     "text": [
      "WARNING:tensorflow:From /opt/anaconda3/lib/python3.7/site-packages/tensorflow_core/python/ops/resource_variable_ops.py:1630: calling BaseResourceVariable.__init__ (from tensorflow.python.ops.resource_variable_ops) with constraint is deprecated and will be removed in a future version.\n",
      "Instructions for updating:\n",
      "If using Keras pass *_constraint arguments to layers.\n",
      "Model: \"sequential_1\"\n",
      "_________________________________________________________________\n",
      "Layer (type)                 Output Shape              Param #   \n",
      "=================================================================\n",
      "embedding_1 (Embedding)      (None, 250, 100)          5000000   \n",
      "_________________________________________________________________\n",
      "spatial_dropout1d_1 (Spatial (None, 250, 100)          0         \n",
      "_________________________________________________________________\n",
      "lstm_1 (LSTM)                (None, 150)               150600    \n",
      "_________________________________________________________________\n",
      "dense_1 (Dense)              (None, 5)                 755       \n",
      "=================================================================\n",
      "Total params: 5,151,355\n",
      "Trainable params: 5,151,355\n",
      "Non-trainable params: 0\n",
      "_________________________________________________________________\n",
      "None\n",
      "WARNING:tensorflow:From /opt/anaconda3/lib/python3.7/site-packages/keras/backend/tensorflow_backend.py:422: The name tf.global_variables is deprecated. Please use tf.compat.v1.global_variables instead.\n",
      "\n",
      "Train on 52984 samples, validate on 5888 samples\n",
      "Epoch 1/5\n",
      "52984/52984 [==============================] - 425s 8ms/step - loss: 1.0438 - accuracy: 0.5979 - val_loss: 0.8518 - val_accuracy: 0.6912\n",
      "Epoch 2/5\n",
      "52984/52984 [==============================] - 477s 9ms/step - loss: 0.7610 - accuracy: 0.7258 - val_loss: 0.8593 - val_accuracy: 0.6873\n",
      "Epoch 3/5\n",
      "52928/52984 [============================>.] - ETA: 0s - loss: 0.6115 - accuracy: 0.7812"
     ]
    }
   ],
   "source": [
    "model = Sequential()\n",
    "model.add(Embedding(MAX_NB_WORDS, EMBEDDING_DIM, input_length=X.shape[1]))\n",
    "model.add(SpatialDropout1D(0.2))\n",
    "model.add(LSTM(150, dropout=0.2, recurrent_dropout=0.2))\n",
    "model.add(Dense(5, activation='softmax'))\n",
    "model.compile(loss='categorical_crossentropy', optimizer='adam', metrics=['accuracy'])\n",
    "print(model.summary())\n",
    "\n",
    "epochs = 5\n",
    "batch_size = 64\n",
    "\n",
    "history = model.fit(X_train, y_train, epochs=epochs, batch_size=batch_size,validation_split=0.1,\n",
    "                    callbacks=[EarlyStopping(monitor='val_loss', patience=3, min_delta=0.0001)])"
   ]
  },
  {
   "cell_type": "markdown",
   "metadata": {},
   "source": [
    "### Factorization"
   ]
  },
  {
   "cell_type": "code",
   "execution_count": 8,
   "metadata": {},
   "outputs": [
    {
     "data": {
      "text/html": [
       "<div>\n",
       "<style scoped>\n",
       "    .dataframe tbody tr th:only-of-type {\n",
       "        vertical-align: middle;\n",
       "    }\n",
       "\n",
       "    .dataframe tbody tr th {\n",
       "        vertical-align: top;\n",
       "    }\n",
       "\n",
       "    .dataframe thead th {\n",
       "        text-align: right;\n",
       "    }\n",
       "</style>\n",
       "<table border=\"1\" class=\"dataframe\">\n",
       "  <thead>\n",
       "    <tr style=\"text-align: right;\">\n",
       "      <th></th>\n",
       "      <th>Title</th>\n",
       "      <th>flair</th>\n",
       "      <th>text</th>\n",
       "      <th>flair_id</th>\n",
       "    </tr>\n",
       "  </thead>\n",
       "  <tbody>\n",
       "    <tr>\n",
       "      <td>0</td>\n",
       "      <td>best fastest way double 1 lakh rupees legally</td>\n",
       "      <td>askindia</td>\n",
       "      <td>best fastest way double 1 lakh rupees legally</td>\n",
       "      <td>0</td>\n",
       "    </tr>\n",
       "    <tr>\n",
       "      <td>1</td>\n",
       "      <td>like jadhav couldnt hug mother glass screen ya...</td>\n",
       "      <td>politics</td>\n",
       "      <td>like jadhav couldnt hug mother glass screen ya...</td>\n",
       "      <td>1</td>\n",
       "    </tr>\n",
       "  </tbody>\n",
       "</table>\n",
       "</div>"
      ],
      "text/plain": [
       "                                               Title     flair  \\\n",
       "0      best fastest way double 1 lakh rupees legally  askindia   \n",
       "1  like jadhav couldnt hug mother glass screen ya...  politics   \n",
       "\n",
       "                                                text  flair_id  \n",
       "0      best fastest way double 1 lakh rupees legally         0  \n",
       "1  like jadhav couldnt hug mother glass screen ya...         1  "
      ]
     },
     "execution_count": 8,
     "metadata": {},
     "output_type": "execute_result"
    }
   ],
   "source": [
    "from io import StringIO\n",
    "\n",
    "rawData['flair_id'] = rawData['flair'].factorize()[0]\n",
    "category_id_df = rawData[['flair', 'flair_id']].drop_duplicates().sort_values('flair_id')\n",
    "category_to_id = dict(category_id_df.values)\n",
    "id_to_category = dict(category_id_df[['flair', 'flair_id']].values)\n",
    "rawData.head(2)"
   ]
  },
  {
   "cell_type": "markdown",
   "metadata": {},
   "source": [
    "### Train-Test Split"
   ]
  },
  {
   "cell_type": "code",
   "execution_count": 9,
   "metadata": {},
   "outputs": [],
   "source": [
    "from sklearn.model_selection import train_test_split\n",
    "\n",
    "X = rawData.text\n",
    "y = rawData.flair_id\n",
    "#y = pd.get_dummies(rawData['flair']).values\n",
    "X_train, X_test, y_train, y_test = train_test_split(X, y, test_size=0.2, random_state = 100)"
   ]
  },
  {
   "cell_type": "markdown",
   "metadata": {},
   "source": [
    "### Vectorization"
   ]
  },
  {
   "cell_type": "code",
   "execution_count": 10,
   "metadata": {},
   "outputs": [],
   "source": [
    "from sklearn.feature_extraction.text import TfidfVectorizer\n",
    "\n",
    "vect = TfidfVectorizer(stop_words='english').fit(X_train)\n",
    "\n",
    "tfidf_train = vect.transform(X_train)\n",
    "tfidf_test = vect.transform(X_test)\n",
    "\n",
    "X_train_vect = pd.DataFrame(tfidf_train.todense(), columns=vect.get_feature_names())\n",
    "X_test_vect = pd.DataFrame(tfidf_test.todense(), columns=vect.get_feature_names())\n",
    "\n",
    "# Used for fitting on the whole model later\n",
    "total_vect = TfidfVectorizer(stop_words='english').fit(rawData['text'])\n",
    "tfidf = total_vect.transform(rawData['text'])\n",
    "rawData_vect = pd.DataFrame(tfidf.todense(), columns=total_vect.get_feature_names())"
   ]
  },
  {
   "cell_type": "code",
   "execution_count": 11,
   "metadata": {},
   "outputs": [
    {
     "name": "stdout",
     "output_type": "stream",
     "text": [
      "X_train_vect has 10424 rows and 32320 columns and y_train also has 10424 rows.\n",
      "X_test_vect has 2606 rows and 32320 columns and y_train also has 2606 rows.\n"
     ]
    }
   ],
   "source": [
    "print(\"X_train_vect has {} rows and {} columns and y_train also has {} rows.\"\n",
    "      .format(X_train_vect.shape[0], X_train_vect.shape[1], y_train.shape[0]))\n",
    "\n",
    "print(\"X_test_vect has {} rows and {} columns and y_train also has {} rows.\"\n",
    "      .format(X_test_vect.shape[0], X_test_vect.shape[1], y_test.shape[0]))"
   ]
  },
  {
   "cell_type": "markdown",
   "metadata": {},
   "source": [
    "### Classification"
   ]
  },
  {
   "cell_type": "code",
   "execution_count": 12,
   "metadata": {},
   "outputs": [
    {
     "name": "stdout",
     "output_type": "stream",
     "text": [
      "accuracy 0.5882578664620107\n",
      "              precision    recall  f1-score   support\n",
      "\n",
      "           0       0.53      0.91      0.67       517\n",
      "           1       0.65      0.66      0.66       530\n",
      "           2       0.59      0.32      0.42       509\n",
      "           3       0.61      0.72      0.66       505\n",
      "           4       0.59      0.34      0.43       545\n",
      "\n",
      "    accuracy                           0.59      2606\n",
      "   macro avg       0.59      0.59      0.57      2606\n",
      "weighted avg       0.60      0.59      0.57      2606\n",
      "\n"
     ]
    }
   ],
   "source": [
    "from sklearn.naive_bayes import MultinomialNB\n",
    "from sklearn.metrics import accuracy_score, classification_report\n",
    "\n",
    "clf = MultinomialNB().fit(X_train_vect, y_train)\n",
    "\n",
    "y_pred = clf.predict(X_test_vect)\n",
    "\n",
    "print('accuracy %s' % accuracy_score(y_pred, y_test))\n",
    "print(classification_report(y_test, y_pred))"
   ]
  },
  {
   "cell_type": "code",
   "execution_count": null,
   "metadata": {},
   "outputs": [],
   "source": [
    "# from sklearn.linear_model import LogisticRegression\n",
    "# from sklearn.model_selection import GridSearchCV\n",
    "# from sklearn.metrics import accuracy_score, classification_report\n",
    "\n",
    "# searcher = LogisticRegression(multi_class='multinomial', solver='lbfgs')\n",
    "\n",
    "# # tolerance = [0.01, 0.001, 0.0001, 0.00001]\n",
    "# # m_iter = [50, 100, 150, 200, 250]\n",
    "# # c = [0.001, 0.01, 0.1, 1, 10, 100, 1000]\n",
    "# # sol = [\"newton-cg\", \"lbfgs\", \"sag\"]\n",
    "\n",
    "# # tolerance = [0.01]\n",
    "# # m_iter = [50]\n",
    "# # c = [0.001]\n",
    "# # sol = [\"newton-cg\"]\n",
    "\n",
    "# # grid = dict(tol = tolerance, \n",
    "# #             max_iter = m_iter,\n",
    "# #             C = c,\n",
    "# #             solver=sol)\n",
    "\n",
    "# # searcher = GridSearchCV(classifier, \n",
    "# #                         param_grid = grid,\n",
    "# #                         cv = 2, refit = True, verbose=1, n_jobs=-1)\n",
    "\n",
    "# searcher.fit(X_train_vect, y_train)\n",
    "\n",
    "# y_pred = searcher.predict(X_test_vect)\n",
    "\n",
    "# print('accuracy %s' % accuracy_score(y_pred, y_test))\n",
    "# print(classification_report(y_test, y_pred))"
   ]
  },
  {
   "cell_type": "code",
   "execution_count": null,
   "metadata": {},
   "outputs": [],
   "source": [
    "# from sklearn.ensemble import RandomForestClassifier\n",
    "# from sklearn.metrics import accuracy_score, classification_report\n",
    "# from sklearn.model_selection import GridSearchCV\n",
    "\n",
    "# from pactools import simulate_pac\n",
    "# from pactools.grid_search import ExtractDriver, AddDriverDelay\n",
    "# from pactools.grid_search import DARSklearn, MultipleArray\n",
    "# from pactools.grid_search import GridSearchCVProgressBar\n",
    "\n",
    "# rf = RandomForestClassifier()\n",
    "\n",
    "# est = [50, 100, 150, 200, 250, 300, 350, 400]\n",
    "# depth = [None, 5, 7, 9, 11, 13, 15]\n",
    "\n",
    "# grid = dict(n_estimators = est, \n",
    "#             max_depth = depth)\n",
    "\n",
    "# # searcher = GridSearchCV(rf, param_grid = grid,\n",
    "# #                         cv = 2, refit = True, verbose=5, n_jobs=-1)\n",
    "\n",
    "# searcher.fit(X_train_vect, y_train)\n",
    "\n",
    "# y_pred = searcher.predict(X_test_vect)\n",
    "\n",
    "# print(searcher.best_params_)\n",
    "\n",
    "# print('accuracy %s' % accuracy_score(y_pred, y_test))\n",
    "# print(classification_report(y_test, y_pred))"
   ]
  },
  {
   "cell_type": "code",
   "execution_count": null,
   "metadata": {},
   "outputs": [],
   "source": [
    "# from sklearn.ensemble import RandomForestClassifier\n",
    "# from sklearn.metrics import accuracy_score, classification_report\n",
    "\n",
    "# rf = RandomForestClassifier(n_estimators = 100).fit(X_train_vect, y_train)\n",
    "\n",
    "# y_pred = rf.predict(X_test_vect)\n",
    "\n",
    "# print('accuracy %s' % accuracy_score(y_pred, y_test))\n",
    "# print(classification_report(y_test, y_pred))"
   ]
  },
  {
   "cell_type": "code",
   "execution_count": null,
   "metadata": {},
   "outputs": [],
   "source": [
    "# from xgboost import XGBClassifier \n",
    "# from sklearn.metrics import accuracy_score, classification_report\n",
    "\n",
    "# clf = XGBClassifier(objective='multi:softmax')\n",
    "\n",
    "# clf.fit(X_train_vect, y_train, verbose=True)\n",
    "\n",
    "# y_pred = clf.predict(X_test_vect)\n",
    "\n",
    "# print('accuracy %s' % accuracy_score(y_pred, y_test))\n",
    "# print(classification_report(y_test, y_pred))"
   ]
  },
  {
   "cell_type": "code",
   "execution_count": null,
   "metadata": {},
   "outputs": [],
   "source": [
    "# from sklearn.linear_model import SGDClassifier\n",
    "# from sklearn.model_selection import GridSearchCV\n",
    "\n",
    "# sgd = SGDClassifier(loss='hinge', penalty='l2', alpha=1e-4, random_state=42, max_iter=18, tol=None)\n",
    "\n",
    "# sgd.fit(X_train_vect, y_train)\n",
    "\n",
    "# y_pred = sgd.predict(X_test_vect)\n",
    "\n",
    "# print('accuracy %s' % accuracy_score(y_pred, y_test))\n",
    "# print(classification_report(y_test, y_pred))"
   ]
  },
  {
   "cell_type": "code",
   "execution_count": null,
   "metadata": {},
   "outputs": [
    {
     "name": "stdout",
     "output_type": "stream",
     "text": [
      "Fitting 2 folds for each of 20 candidates, totalling 40 fits\n"
     ]
    },
    {
     "name": "stderr",
     "output_type": "stream",
     "text": [
      "[Parallel(n_jobs=-1)]: Using backend LokyBackend with 4 concurrent workers.\n",
      "[Parallel(n_jobs=-1)]: Done   5 tasks      | elapsed: 10.0min\n"
     ]
    }
   ],
   "source": [
    "from sklearn.linear_model import SGDClassifier\n",
    "from sklearn.model_selection import GridSearchCV\n",
    "\n",
    "sgd = SGDClassifier(loss='hinge', penalty='l2', random_state=42, tol=None)\n",
    "\n",
    "grid = dict(alpha = [0.1, 0.01, 0.001, 0.0001, 0.00001], \n",
    "            max_iter = [10, 20, 50, 100])\n",
    "\n",
    "searcher = GridSearchCV(sgd, param_grid = grid,\n",
    "                        cv = 2, refit = True, verbose=10, n_jobs=-1)\n",
    "\n",
    "searcher.fit(X_train_vect, y_train)\n",
    "\n",
    "y_pred = searcher.predict(X_test_vect)\n",
    "\n",
    "print('accuracy %s' % accuracy_score(y_pred, y_test))\n",
    "print(classification_report(y_test, y_pred))"
   ]
  },
  {
   "cell_type": "code",
   "execution_count": null,
   "metadata": {},
   "outputs": [],
   "source": []
  }
 ],
 "metadata": {
  "kernelspec": {
   "display_name": "Python 3.7.4 64-bit ('base': conda)",
   "language": "python",
   "name": "python37464bitbaseconda3f0d6be5914d434a9d7014ecd996a3a3"
  },
  "language_info": {
   "codemirror_mode": {
    "name": "ipython",
    "version": 3
   },
   "file_extension": ".py",
   "mimetype": "text/x-python",
   "name": "python",
   "nbconvert_exporter": "python",
   "pygments_lexer": "ipython3",
   "version": "3.7.4"
  }
 },
 "nbformat": 4,
 "nbformat_minor": 2
}
