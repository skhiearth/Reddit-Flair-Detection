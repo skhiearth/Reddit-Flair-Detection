{
 "cells": [
  {
   "cell_type": "markdown",
   "metadata": {},
   "source": [
    "### Tokenization and Removing Stopwords"
   ]
  },
  {
   "cell_type": "code",
   "execution_count": 1,
   "metadata": {},
   "outputs": [],
   "source": [
    "import pandas as pd\n",
    "import numpy as np\n",
    "import string\n",
    "import re\n",
    "import nltk\n",
    "from nltk.corpus import stopwords\n",
    "from nltk.tokenize import RegexpTokenizer\n",
    "from nltk.stem import WordNetLemmatizer\n",
    "from nltk.stem.porter import PorterStemmer"
   ]
  },
  {
   "cell_type": "code",
   "execution_count": 2,
   "metadata": {},
   "outputs": [
    {
     "data": {
      "text/html": [
       "<div>\n",
       "<style scoped>\n",
       "    .dataframe tbody tr th:only-of-type {\n",
       "        vertical-align: middle;\n",
       "    }\n",
       "\n",
       "    .dataframe tbody tr th {\n",
       "        vertical-align: top;\n",
       "    }\n",
       "\n",
       "    .dataframe thead th {\n",
       "        text-align: right;\n",
       "    }\n",
       "</style>\n",
       "<table border=\"1\" class=\"dataframe\">\n",
       "  <thead>\n",
       "    <tr style=\"text-align: right;\">\n",
       "      <th></th>\n",
       "      <th>title</th>\n",
       "      <th>id</th>\n",
       "      <th>url</th>\n",
       "      <th>body</th>\n",
       "      <th>flair</th>\n",
       "      <th>text</th>\n",
       "    </tr>\n",
       "  </thead>\n",
       "  <tbody>\n",
       "    <tr>\n",
       "      <td>0</td>\n",
       "      <td>Will donate thrice the number of upvotes (amou...</td>\n",
       "      <td>981o7s</td>\n",
       "      <td>https://www.reddit.com/r/india/comments/981o7s...</td>\n",
       "      <td>&gt;**Note**: If you want to know what this is al...</td>\n",
       "      <td>[R]eddiquette</td>\n",
       "      <td>Will donate thrice the number of upvotes (amou...</td>\n",
       "    </tr>\n",
       "    <tr>\n",
       "      <td>1</td>\n",
       "      <td>Indian reply to NYtimes cartoon on Paris clima...</td>\n",
       "      <td>6f10op</td>\n",
       "      <td>http://imgur.com/a/U48v9</td>\n",
       "      <td></td>\n",
       "      <td>/r/all</td>\n",
       "      <td>Indian reply to NYtimes cartoon on Paris clima...</td>\n",
       "    </tr>\n",
       "  </tbody>\n",
       "</table>\n",
       "</div>"
      ],
      "text/plain": [
       "                                               title      id  \\\n",
       "0  Will donate thrice the number of upvotes (amou...  981o7s   \n",
       "1  Indian reply to NYtimes cartoon on Paris clima...  6f10op   \n",
       "\n",
       "                                                 url  \\\n",
       "0  https://www.reddit.com/r/india/comments/981o7s...   \n",
       "1                           http://imgur.com/a/U48v9   \n",
       "\n",
       "                                                body          flair  \\\n",
       "0  >**Note**: If you want to know what this is al...  [R]eddiquette   \n",
       "1                                                            /r/all   \n",
       "\n",
       "                                                text  \n",
       "0  Will donate thrice the number of upvotes (amou...  \n",
       "1  Indian reply to NYtimes cartoon on Paris clima...  "
      ]
     },
     "execution_count": 2,
     "metadata": {},
     "output_type": "execute_result"
    }
   ],
   "source": [
    "rawData = pd.read_csv(\"/Users/skhiearth/Desktop/Reddit-Flair-Detection/RedditData/Data/raw.csv\")\n",
    "rawData.head()\n",
    "\n",
    "rawData[\"flair\"].fillna(\"\", inplace = True)\n",
    "rawData[\"body\"].fillna(\"\", inplace = True)\n",
    "rawData[\"title\"].fillna(\"\", inplace = True)\n",
    "\n",
    "rawData[\"text\"] = rawData[\"title\"] + \" \" + rawData[\"body\"]\n",
    "rawData.head(2)"
   ]
  },
  {
   "cell_type": "code",
   "execution_count": 3,
   "metadata": {},
   "outputs": [],
   "source": [
    "bad_chars = ['/r', 'r/', '[R]'] \n",
    "for i in bad_chars : \n",
    "    rawData['flair'] = rawData['flair'].str.replace(i, '')"
   ]
  },
  {
   "cell_type": "code",
   "execution_count": 4,
   "metadata": {},
   "outputs": [
    {
     "data": {
      "text/html": [
       "<div>\n",
       "<style scoped>\n",
       "    .dataframe tbody tr th:only-of-type {\n",
       "        vertical-align: middle;\n",
       "    }\n",
       "\n",
       "    .dataframe tbody tr th {\n",
       "        vertical-align: top;\n",
       "    }\n",
       "\n",
       "    .dataframe thead th {\n",
       "        text-align: right;\n",
       "    }\n",
       "</style>\n",
       "<table border=\"1\" class=\"dataframe\">\n",
       "  <thead>\n",
       "    <tr style=\"text-align: right;\">\n",
       "      <th></th>\n",
       "      <th>title</th>\n",
       "      <th>id</th>\n",
       "      <th>url</th>\n",
       "      <th>body</th>\n",
       "      <th>flair</th>\n",
       "      <th>text</th>\n",
       "    </tr>\n",
       "  </thead>\n",
       "  <tbody>\n",
       "    <tr>\n",
       "      <td>0</td>\n",
       "      <td>Will donate thrice the number of upvotes (amou...</td>\n",
       "      <td>981o7s</td>\n",
       "      <td>https://www.reddit.com/r/india/comments/981o7s...</td>\n",
       "      <td>&gt;**Note**: If you want to know what this is al...</td>\n",
       "      <td>eddiquette</td>\n",
       "      <td>Will donate thrice the number of upvotes amoun...</td>\n",
       "    </tr>\n",
       "    <tr>\n",
       "      <td>1</td>\n",
       "      <td>Indian reply to NYtimes cartoon on Paris clima...</td>\n",
       "      <td>6f10op</td>\n",
       "      <td>http://imgur.com/a/U48v9</td>\n",
       "      <td></td>\n",
       "      <td>all</td>\n",
       "      <td>Indian reply to NYtimes cartoon on Paris clima...</td>\n",
       "    </tr>\n",
       "  </tbody>\n",
       "</table>\n",
       "</div>"
      ],
      "text/plain": [
       "                                               title      id  \\\n",
       "0  Will donate thrice the number of upvotes (amou...  981o7s   \n",
       "1  Indian reply to NYtimes cartoon on Paris clima...  6f10op   \n",
       "\n",
       "                                                 url  \\\n",
       "0  https://www.reddit.com/r/india/comments/981o7s...   \n",
       "1                           http://imgur.com/a/U48v9   \n",
       "\n",
       "                                                body       flair  \\\n",
       "0  >**Note**: If you want to know what this is al...  eddiquette   \n",
       "1                                                            all   \n",
       "\n",
       "                                                text  \n",
       "0  Will donate thrice the number of upvotes amoun...  \n",
       "1  Indian reply to NYtimes cartoon on Paris clima...  "
      ]
     },
     "execution_count": 4,
     "metadata": {},
     "output_type": "execute_result"
    }
   ],
   "source": [
    "def remove_punctuation(text):\n",
    "    no_punct = \"\".join([c for c in text if c not in string.punctuation])\n",
    "    return no_punct\n",
    "\n",
    "rawData['text'] = rawData['text'].apply(lambda x:remove_punctuation(x))\n",
    "rawData['flair'] = rawData['flair'].apply(lambda x:remove_punctuation(x))\n",
    "\n",
    "rawData.head(2)"
   ]
  },
  {
   "cell_type": "code",
   "execution_count": 5,
   "metadata": {},
   "outputs": [],
   "source": [
    "# tokenizer = RegexpTokenizer(r'\\w+')\n",
    "# rawData['text'] = rawData['text'].apply(lambda x: tokenizer.tokenize(x.lower()))\n",
    "# rawData['flair'] = rawData['flair'].apply(lambda x: tokenizer.tokenize(x.lower()))\n",
    "\n",
    "# def remove_stopwords(text):\n",
    "#     words = [w for w in text if w not in stopwords.words('english')]\n",
    "#     return words\n",
    "\n",
    "# rawData['text'] = rawData['text'].apply(lambda x:remove_stopwords(x))\n",
    "# rawData['flair'] = rawData['flair'].apply(lambda x:remove_stopwords(x))"
   ]
  },
  {
   "cell_type": "markdown",
   "metadata": {},
   "source": [
    "### Train-Test Split"
   ]
  },
  {
   "cell_type": "code",
   "execution_count": 6,
   "metadata": {},
   "outputs": [],
   "source": [
    "from sklearn.model_selection import train_test_split\n",
    "\n",
    "X_train, X_test, y_train, y_test = train_test_split(rawData['text'], rawData['flair'], \n",
    "                                                    test_size=0.2, random_state=100)"
   ]
  },
  {
   "cell_type": "markdown",
   "metadata": {},
   "source": [
    "### Vectorization"
   ]
  },
  {
   "cell_type": "code",
   "execution_count": 7,
   "metadata": {},
   "outputs": [],
   "source": [
    "from sklearn.feature_extraction.text import TfidfVectorizer\n",
    "\n",
    "vect = TfidfVectorizer(stop_words='english').fit(X_train)\n",
    "\n",
    "# total_vect = TfidfVectorizer()\n",
    "# tfidf_total = total_vect.fit(rawData[['title', 'body']]) # Used for fitting on the whole model later\n",
    "# tfidf = tfidf_total.transform(rawData[['title', 'body']]) \n",
    "\n",
    "tfidf_train = vect.transform(X_train) \n",
    "tfidf_test = vect.transform(X_test) \n",
    "\n",
    "X_train_vect = pd.DataFrame(tfidf_train.todense(), columns=vect.get_feature_names())\n",
    "X_test_vect = pd.DataFrame(tfidf_test.todense(), columns=vect.get_feature_names())"
   ]
  },
  {
   "cell_type": "code",
   "execution_count": 8,
   "metadata": {},
   "outputs": [
    {
     "name": "stdout",
     "output_type": "stream",
     "text": [
      "X_train_vect has 790 rows and 5737 columns and y_train has 790 rows.\n"
     ]
    }
   ],
   "source": [
    "print(\"X_train_vect has {} rows and {} columns and y_train has {} rows.\"\n",
    "      .format(X_train_vect.shape[0], X_train_vect.shape[1], y_train.shape[0]))"
   ]
  },
  {
   "cell_type": "code",
   "execution_count": 9,
   "metadata": {},
   "outputs": [
    {
     "name": "stdout",
     "output_type": "stream",
     "text": [
      "X_test_vect has 198 rows and 5737 columns and y_train has 198 rows.\n"
     ]
    }
   ],
   "source": [
    "print(\"X_test_vect has {} rows and {} columns and y_train has {} rows.\"\n",
    "      .format(X_test_vect.shape[0], X_test_vect.shape[1], y_test.shape[0]))"
   ]
  }
 ],
 "metadata": {
  "kernelspec": {
   "display_name": "Python 3.7.4 64-bit ('base': conda)",
   "language": "python",
   "name": "python37464bitbaseconda3f0d6be5914d434a9d7014ecd996a3a3"
  },
  "language_info": {
   "codemirror_mode": {
    "name": "ipython",
    "version": 3
   },
   "file_extension": ".py",
   "mimetype": "text/x-python",
   "name": "python",
   "nbconvert_exporter": "python",
   "pygments_lexer": "ipython3",
   "version": "3.7.4"
  }
 },
 "nbformat": 4,
 "nbformat_minor": 2
}
