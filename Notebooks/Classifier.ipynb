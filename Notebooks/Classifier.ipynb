{
 "cells": [
  {
   "cell_type": "markdown",
   "metadata": {},
   "source": [
    "### Preprocessing"
   ]
  },
  {
   "cell_type": "markdown",
   "metadata": {},
   "source": [
    "Importing required libraries and loading the dataset:"
   ]
  },
  {
   "cell_type": "code",
   "execution_count": null,
   "metadata": {},
   "outputs": [],
   "source": [
    "import pandas as pd\n",
    "import numpy as np\n",
    "import matplotlib.pyplot as plt\n",
    "import seaborn as sns\n",
    "import string\n",
    "import re\n",
    "import nltk\n",
    "from nltk.corpus import stopwords\n",
    "from nltk import word_tokenize\n",
    "\n",
    "from keras.preprocessing.text import Tokenizer\n",
    "from keras.preprocessing.sequence import pad_sequences\n",
    "from keras.models import Sequential\n",
    "from keras.layers import Dense, Embedding, LSTM, SpatialDropout1D\n",
    "from sklearn.model_selection import train_test_split\n",
    "from keras.utils.np_utils import to_categorical\n",
    "from keras.callbacks import EarlyStopping\n",
    "from keras.layers import Dropout"
   ]
  },
  {
   "cell_type": "code",
   "execution_count": 2,
   "metadata": {},
   "outputs": [
    {
     "data": {
      "text/html": [
       "<div>\n",
       "<style scoped>\n",
       "    .dataframe tbody tr th:only-of-type {\n",
       "        vertical-align: middle;\n",
       "    }\n",
       "\n",
       "    .dataframe tbody tr th {\n",
       "        vertical-align: top;\n",
       "    }\n",
       "\n",
       "    .dataframe thead th {\n",
       "        text-align: right;\n",
       "    }\n",
       "</style>\n",
       "<table border=\"1\" class=\"dataframe\">\n",
       "  <thead>\n",
       "    <tr style=\"text-align: right;\">\n",
       "      <th></th>\n",
       "      <th>Title</th>\n",
       "      <th>flair</th>\n",
       "      <th>text</th>\n",
       "    </tr>\n",
       "  </thead>\n",
       "  <tbody>\n",
       "    <tr>\n",
       "      <td>0</td>\n",
       "      <td>TIL: The British named their emergency plans f...</td>\n",
       "      <td>Non-Political</td>\n",
       "      <td>TIL: The British named their emergency plans f...</td>\n",
       "    </tr>\n",
       "    <tr>\n",
       "      <td>1</td>\n",
       "      <td>[NSFW] is there decent desi porn online?</td>\n",
       "      <td>AskIndia</td>\n",
       "      <td>[NSFW] is there decent desi porn online? Shoul...</td>\n",
       "    </tr>\n",
       "  </tbody>\n",
       "</table>\n",
       "</div>"
      ],
      "text/plain": [
       "                                               Title          flair  \\\n",
       "0  TIL: The British named their emergency plans f...  Non-Political   \n",
       "1           [NSFW] is there decent desi porn online?       AskIndia   \n",
       "\n",
       "                                                text  \n",
       "0  TIL: The British named their emergency plans f...  \n",
       "1  [NSFW] is there decent desi porn online? Shoul...  "
      ]
     },
     "execution_count": 2,
     "metadata": {},
     "output_type": "execute_result"
    }
   ],
   "source": [
    "rawData = pd.read_csv(\"/Users/skhiearth/Desktop/Reddit-Flair-Detection/RedditData/Data/balanced.csv\")\n",
    "\n",
    "rawData.drop(['Url', 'Score', 'Publish Date'\n",
    "             ,'Total No. of Comments', 'Body'], axis = 1, inplace=True)\n",
    "\n",
    "rawData = rawData[rawData['flair'].notna()] # Dropping all submissions that don't have a tagged flair\n",
    "\n",
    "rawData.head(2)"
   ]
  },
  {
   "cell_type": "markdown",
   "metadata": {},
   "source": [
    "### Text Cleaning"
   ]
  },
  {
   "cell_type": "markdown",
   "metadata": {},
   "source": [
    "Remove Reddit tags and other features that might be present in the flair to make it easily understandable for people not familiar with Reddit."
   ]
  },
  {
   "cell_type": "code",
   "execution_count": 3,
   "metadata": {},
   "outputs": [],
   "source": [
    "bad_chars = ['/r', 'r/', '[R]'] \n",
    "for i in bad_chars : \n",
    "    rawData['flair'] = rawData['flair'].str.replace(i, '')"
   ]
  },
  {
   "cell_type": "markdown",
   "metadata": {},
   "source": [
    "Remove punctuations from the text:"
   ]
  },
  {
   "cell_type": "code",
   "execution_count": 4,
   "metadata": {},
   "outputs": [],
   "source": [
    "def remove_punctuation(text):\n",
    "    text = str(text)\n",
    "    no_punct = \"\".join([c for c in text if c not in string.punctuation])\n",
    "    return no_punct\n",
    "\n",
    "rawData['Title'] = rawData['Title'].apply(lambda x:remove_punctuation(x))\n",
    "rawData['text'] = rawData['text'].apply(lambda x:remove_punctuation(x))\n",
    "rawData['flair'] = rawData['flair'].apply(lambda x:remove_punctuation(x))"
   ]
  },
  {
   "cell_type": "code",
   "execution_count": 5,
   "metadata": {},
   "outputs": [],
   "source": [
    "# tokenizer = RegexpTokenizer(r'\\w+')\n",
    "# rawData['text'] = rawData['text'].apply(lambda x: tokenizer.tokenize(x.lower()))\n",
    "# rawData['flair'] = rawData['flair'].apply(lambda x: tokenizer.tokenize(x.lower()))\n",
    "\n",
    "# REPLACE_BY_SPACE_RE = re.compile('[/(){}\\[\\]\\|@,;]')\n",
    "# BAD_SYMBOLS_RE = re.compile('[^0-9a-z #+_]')\n",
    "# STOPWORDS = set(stopwords.words('english'))\n",
    "# ps = nltk.PorterStemmer() # Defining the Porter Stemmer\n",
    "# wn = nltk.WordNetLemmatizer() # Defining the Word Net Lemmatizer\n",
    "\n",
    "# def clean_text(text):\n",
    "#     text = str(text)\n",
    "#     text = text.lower() \n",
    "#     text = REPLACE_BY_SPACE_RE.sub(' ', text)\n",
    "#     text = BAD_SYMBOLS_RE.sub('', text)\n",
    "#     text = text.replace('x', '')\n",
    "#     text = ' '.join(word for word in text.split() if word not in STOPWORDS) # remove stopwords from text\n",
    "#     return text\n",
    "\n",
    "# rawData['Title'] = rawData['Title'].apply(clean_text)\n",
    "# rawData['text'] = rawData['text'].apply(clean_text)\n",
    "# rawData['flair'] = rawData['flair'].apply(clean_text)"
   ]
  },
  {
   "cell_type": "markdown",
   "metadata": {},
   "source": [
    "Remove stopwords, use lemmatizer to keep only the root of the word to clean the data."
   ]
  },
  {
   "cell_type": "code",
   "execution_count": 6,
   "metadata": {},
   "outputs": [],
   "source": [
    "stopword = nltk.corpus.stopwords.words('english') # Defining Stopwords\n",
    "ps = nltk.PorterStemmer() # Defining the Porter Stemmer\n",
    "wn = nltk.WordNetLemmatizer() # Defining the Word Net Lemmatizer\n",
    "\n",
    "def clean_text(text):\n",
    "    text_nopunct = \"\".join([char.lower() for char in text if char not in string.punctuation])\n",
    "    token = re.split(\"\\W+\", text_nopunct)\n",
    "    text_nostopword = [word for word in token if word not in stopword]\n",
    "    #clean_text = ' '.join([ps.stem(word) for word in text_nostopword] )\n",
    "    clean_text = ' '.join([wn.lemmatize(word) for word in text_nostopword])\n",
    "    return clean_text\n",
    "\n",
    "rawData['Title'] = rawData['Title'].apply(clean_text)\n",
    "rawData['text'] = rawData['text'].apply(clean_text)"
   ]
  },
  {
   "cell_type": "code",
   "execution_count": 7,
   "metadata": {},
   "outputs": [
    {
     "data": {
      "text/plain": [
       "NonPolitical       131731\n",
       "Politics           117326\n",
       "AskIndia            57239\n",
       "PolicyEconomy       20580\n",
       "BusinessFinance     19304\n",
       "Name: flair, dtype: int64"
      ]
     },
     "execution_count": 7,
     "metadata": {},
     "output_type": "execute_result"
    }
   ],
   "source": [
    "rawData['flair'].value_counts()\n",
    "#rawData = rawData.groupby('flair').head(10000).reset_index(drop=True)\n",
    "#rawData['flair'].value_counts()"
   ]
  },
  {
   "cell_type": "markdown",
   "metadata": {},
   "source": [
    "### LSTM"
   ]
  },
  {
   "cell_type": "markdown",
   "metadata": {},
   "source": [
    "Define the tokenizer and fit it on the data to create bag of words model. Split this bag of words to training and testing sets for model fitting and evaluation."
   ]
  },
  {
   "cell_type": "code",
   "execution_count": 8,
   "metadata": {},
   "outputs": [
    {
     "name": "stdout",
     "output_type": "stream",
     "text": [
      "Found 196174 unique tokens.\n",
      "Shape of data tensor: (346180, 250)\n",
      "Shape of label tensor: (346180, 5)\n",
      "(311562, 250) (311562, 5)\n",
      "(34618, 250) (34618, 5)\n"
     ]
    }
   ],
   "source": [
    "# The maximum number of words to be used. (most frequent)\n",
    "MAX_NB_WORDS = 50000\n",
    "# Max number of words in each complaint.\n",
    "MAX_SEQUENCE_LENGTH = 250\n",
    "# This is fixed.\n",
    "EMBEDDING_DIM = 100\n",
    "\n",
    "tokenizer = Tokenizer(num_words=MAX_NB_WORDS, filters='!\"#$%&()*+,-./:;<=>?@[\\]^_`{|}~', lower=True)\n",
    "tokenizer.fit_on_texts(rawData['text'].values)\n",
    "word_index = tokenizer.word_index\n",
    "print('Found %s unique tokens.' % len(word_index))\n",
    "\n",
    "X = tokenizer.texts_to_sequences(rawData['text'].values)\n",
    "X = pad_sequences(X, maxlen=MAX_SEQUENCE_LENGTH)\n",
    "print('Shape of data tensor:', X.shape)\n",
    "\n",
    "Y = pd.get_dummies(rawData['flair']).values\n",
    "print('Shape of label tensor:', Y.shape)\n",
    "\n",
    "X_train, X_test, y_train, y_test = train_test_split(X, Y, test_size = 0.10, random_state = 42)\n",
    "print(X_train.shape,y_train.shape)\n",
    "print(X_test.shape,y_test.shape)"
   ]
  },
  {
   "cell_type": "code",
   "execution_count": 54,
   "metadata": {},
   "outputs": [
    {
     "name": "stdout",
     "output_type": "stream",
     "text": [
      "[1 0 0 0 0]\n",
      "ril row apart oil price play spoiler ongcs kg plan \n",
      "AskIndia\n"
     ]
    }
   ],
   "source": [
    "def a(val):\n",
    "    print(Y[val])\n",
    "    print(rawData['text'].values[val])\n",
    "    print(rawData['flair'].values[val])\n",
    "    \n",
    "a(844)"
   ]
  },
  {
   "cell_type": "markdown",
   "metadata": {},
   "source": [
    "Define model architecture and fit model on training data."
   ]
  },
  {
   "cell_type": "code",
   "execution_count": null,
   "metadata": {},
   "outputs": [],
   "source": [
    "model = Sequential()\n",
    "model.add(Embedding(MAX_NB_WORDS, EMBEDDING_DIM, input_length=X.shape[1]))\n",
    "model.add(SpatialDropout1D(0.2))\n",
    "model.add(LSTM(150, dropout=0.2, recurrent_dropout=0.2))\n",
    "model.add(Dense(5, activation='softmax'))\n",
    "model.compile(loss='categorical_crossentropy', optimizer='adam', metrics=['accuracy'])\n",
    "print(model.summary())"
   ]
  },
  {
   "cell_type": "code",
   "execution_count": null,
   "metadata": {},
   "outputs": [],
   "source": [
    "epochs = 5\n",
    "batch_size = 64\n",
    "\n",
    "history = model.fit(X_train, y_train, epochs=epochs, batch_size=batch_size,validation_split=0.1,\n",
    "                    callbacks=[EarlyStopping(monitor='val_loss', patience=3, min_delta=0.0001)])"
   ]
  },
  {
   "cell_type": "code",
   "execution_count": 9,
   "metadata": {},
   "outputs": [],
   "source": [
    "import pickle\n",
    "# model.save('../Models/LSTM.h5') -- Save model to disk\n",
    "\n",
    "# with open('../Models/LSTMTokenizer.pickle', 'wb') as handle:\n",
    "#     pickle.dump(tokenizer, handle, protocol=pickle.HIGHEST_PROTOCOL) -- save tokenizer to disk"
   ]
  },
  {
   "cell_type": "code",
   "execution_count": 10,
   "metadata": {},
   "outputs": [
    {
     "name": "stdout",
     "output_type": "stream",
     "text": [
      "WARNING:tensorflow:From /opt/anaconda3/lib/python3.7/site-packages/tensorflow_core/python/keras/initializers.py:119: calling RandomUniform.__init__ (from tensorflow.python.ops.init_ops) with dtype is deprecated and will be removed in a future version.\n",
      "Instructions for updating:\n",
      "Call initializer instance with the dtype argument instead of passing it to the constructor\n",
      "WARNING:tensorflow:From /opt/anaconda3/lib/python3.7/site-packages/tensorflow_core/python/ops/resource_variable_ops.py:1630: calling BaseResourceVariable.__init__ (from tensorflow.python.ops.resource_variable_ops) with constraint is deprecated and will be removed in a future version.\n",
      "Instructions for updating:\n",
      "If using Keras pass *_constraint arguments to layers.\n"
     ]
    }
   ],
   "source": [
    "import tensorflow as tf\n",
    "model = tf.keras.models.load_model('../Models/LSTM.h5')"
   ]
  },
  {
   "cell_type": "code",
   "execution_count": 11,
   "metadata": {},
   "outputs": [
    {
     "name": "stdout",
     "output_type": "stream",
     "text": [
      "accuracy 0.6981628054769196\n",
      "              precision    recall  f1-score   support\n",
      "\n",
      "           0       0.68      0.65      0.66      5867\n",
      "           1       0.59      0.53      0.56      1922\n",
      "           2       0.69      0.71      0.70     13242\n",
      "           3       0.51      0.43      0.47      2052\n",
      "           4       0.76      0.78      0.77     11535\n",
      "\n",
      "    accuracy                           0.70     34618\n",
      "   macro avg       0.65      0.62      0.63     34618\n",
      "weighted avg       0.70      0.70      0.70     34618\n",
      "\n"
     ]
    }
   ],
   "source": [
    "y_pred = model.predict(X_test)\n",
    "\n",
    "y_test_max = np.argmax(y_test, axis=1)\n",
    "y_pred = np.argmax(y_pred, axis=1)\n",
    "\n",
    "from sklearn.metrics import accuracy_score, classification_report\n",
    "print('accuracy %s' % accuracy_score(y_pred, y_test_max))\n",
    "print(classification_report(y_test_max, y_pred))"
   ]
  },
  {
   "cell_type": "markdown",
   "metadata": {},
   "source": [
    "#### The model has an average accuracy of roughly 70% on the test set, 83% while training and 72% on the validation set.\n",
    "\n",
    "#### After predicting labels using the test set, we have to above mentioned report.\n",
    "\n",
    "For the class `BusinessFinance`, we have a recall of 0.78, which means that 78% of total relevant results are correctly classified by our model. It also has a precision of 0.76. The model does best on this class.\n",
    "\n",
    "The model performs worst on the `PolicyEconomy` class, followed by the `Politics` class."
   ]
  },
  {
   "cell_type": "markdown",
   "metadata": {},
   "source": [
    "### Factorization"
   ]
  },
  {
   "cell_type": "code",
   "execution_count": null,
   "metadata": {},
   "outputs": [],
   "source": [
    "from io import StringIO\n",
    "\n",
    "rawData['flair_id'] = rawData['flair'].factorize()[0]\n",
    "category_id_df = rawData[['flair', 'flair_id']].drop_duplicates().sort_values('flair_id')\n",
    "category_to_id = dict(category_id_df.values)\n",
    "id_to_category = dict(category_id_df[['flair', 'flair_id']].values)\n",
    "rawData.head(2)"
   ]
  },
  {
   "cell_type": "markdown",
   "metadata": {},
   "source": [
    "### Train-Test Split"
   ]
  },
  {
   "cell_type": "code",
   "execution_count": null,
   "metadata": {},
   "outputs": [],
   "source": [
    "from sklearn.model_selection import train_test_split\n",
    "\n",
    "X = rawData.text\n",
    "y = rawData.flair_id\n",
    "#y = pd.get_dummies(rawData['flair']).values\n",
    "X_train, X_test, y_train, y_test = train_test_split(X, y, test_size=0.2, random_state = 100)"
   ]
  },
  {
   "cell_type": "markdown",
   "metadata": {},
   "source": [
    "### Vectorization"
   ]
  },
  {
   "cell_type": "code",
   "execution_count": null,
   "metadata": {},
   "outputs": [],
   "source": [
    "from sklearn.feature_extraction.text import TfidfVectorizer\n",
    "\n",
    "vect = TfidfVectorizer(stop_words='english').fit(X_train)\n",
    "\n",
    "tfidf_train = vect.transform(X_train)\n",
    "tfidf_test = vect.transform(X_test)\n",
    "\n",
    "X_train_vect = pd.DataFrame(tfidf_train.todense(), columns=vect.get_feature_names())\n",
    "X_test_vect = pd.DataFrame(tfidf_test.todense(), columns=vect.get_feature_names())\n",
    "\n",
    "# Used for fitting on the whole model later\n",
    "total_vect = TfidfVectorizer(stop_words='english').fit(rawData['text'])\n",
    "tfidf = total_vect.transform(rawData['text'])\n",
    "rawData_vect = pd.DataFrame(tfidf.todense(), columns=total_vect.get_feature_names())"
   ]
  },
  {
   "cell_type": "code",
   "execution_count": null,
   "metadata": {},
   "outputs": [],
   "source": [
    "print(\"X_train_vect has {} rows and {} columns and y_train also has {} rows.\"\n",
    "      .format(X_train_vect.shape[0], X_train_vect.shape[1], y_train.shape[0]))\n",
    "\n",
    "print(\"X_test_vect has {} rows and {} columns and y_train also has {} rows.\"\n",
    "      .format(X_test_vect.shape[0], X_test_vect.shape[1], y_test.shape[0]))"
   ]
  },
  {
   "cell_type": "markdown",
   "metadata": {},
   "source": [
    "### Classification"
   ]
  },
  {
   "cell_type": "code",
   "execution_count": null,
   "metadata": {},
   "outputs": [],
   "source": [
    "from sklearn.naive_bayes import MultinomialNB\n",
    "from sklearn.metrics import accuracy_score, classification_report\n",
    "\n",
    "clf = MultinomialNB().fit(X_train_vect, y_train)\n",
    "\n",
    "y_pred = clf.predict(X_test_vect)\n",
    "\n",
    "print('accuracy %s' % accuracy_score(y_pred, y_test))\n",
    "print(classification_report(y_test, y_pred))"
   ]
  },
  {
   "cell_type": "code",
   "execution_count": null,
   "metadata": {},
   "outputs": [],
   "source": [
    "# from sklearn.linear_model import LogisticRegression\n",
    "# from sklearn.model_selection import GridSearchCV\n",
    "# from sklearn.metrics import accuracy_score, classification_report\n",
    "\n",
    "# searcher = LogisticRegression(multi_class='multinomial', solver='lbfgs')\n",
    "\n",
    "# # tolerance = [0.01, 0.001, 0.0001, 0.00001]\n",
    "# # m_iter = [50, 100, 150, 200, 250]\n",
    "# # c = [0.001, 0.01, 0.1, 1, 10, 100, 1000]\n",
    "# # sol = [\"newton-cg\", \"lbfgs\", \"sag\"]\n",
    "\n",
    "# # tolerance = [0.01]\n",
    "# # m_iter = [50]\n",
    "# # c = [0.001]\n",
    "# # sol = [\"newton-cg\"]\n",
    "\n",
    "# # grid = dict(tol = tolerance, \n",
    "# #             max_iter = m_iter,\n",
    "# #             C = c,\n",
    "# #             solver=sol)\n",
    "\n",
    "# # searcher = GridSearchCV(classifier, \n",
    "# #                         param_grid = grid,\n",
    "# #                         cv = 2, refit = True, verbose=1, n_jobs=-1)\n",
    "\n",
    "# searcher.fit(X_train_vect, y_train)\n",
    "\n",
    "# y_pred = searcher.predict(X_test_vect)\n",
    "\n",
    "# print('accuracy %s' % accuracy_score(y_pred, y_test))\n",
    "# print(classification_report(y_test, y_pred))"
   ]
  },
  {
   "cell_type": "code",
   "execution_count": null,
   "metadata": {},
   "outputs": [],
   "source": [
    "# from sklearn.ensemble import RandomForestClassifier\n",
    "# from sklearn.metrics import accuracy_score, classification_report\n",
    "# from sklearn.model_selection import GridSearchCV\n",
    "\n",
    "# from pactools import simulate_pac\n",
    "# from pactools.grid_search import ExtractDriver, AddDriverDelay\n",
    "# from pactools.grid_search import DARSklearn, MultipleArray\n",
    "# from pactools.grid_search import GridSearchCVProgressBar\n",
    "\n",
    "# rf = RandomForestClassifier()\n",
    "\n",
    "# est = [50, 100, 150, 200, 250, 300, 350, 400]\n",
    "# depth = [None, 5, 7, 9, 11, 13, 15]\n",
    "\n",
    "# grid = dict(n_estimators = est, \n",
    "#             max_depth = depth)\n",
    "\n",
    "# # searcher = GridSearchCV(rf, param_grid = grid,\n",
    "# #                         cv = 2, refit = True, verbose=5, n_jobs=-1)\n",
    "\n",
    "# searcher.fit(X_train_vect, y_train)\n",
    "\n",
    "# y_pred = searcher.predict(X_test_vect)\n",
    "\n",
    "# print(searcher.best_params_)\n",
    "\n",
    "# print('accuracy %s' % accuracy_score(y_pred, y_test))\n",
    "# print(classification_report(y_test, y_pred))"
   ]
  },
  {
   "cell_type": "code",
   "execution_count": null,
   "metadata": {},
   "outputs": [],
   "source": [
    "# from sklearn.ensemble import RandomForestClassifier\n",
    "# from sklearn.metrics import accuracy_score, classification_report\n",
    "\n",
    "# rf = RandomForestClassifier(n_estimators = 100).fit(X_train_vect, y_train)\n",
    "\n",
    "# y_pred = rf.predict(X_test_vect)\n",
    "\n",
    "# print('accuracy %s' % accuracy_score(y_pred, y_test))\n",
    "# print(classification_report(y_test, y_pred))"
   ]
  },
  {
   "cell_type": "code",
   "execution_count": null,
   "metadata": {},
   "outputs": [],
   "source": [
    "# from xgboost import XGBClassifier \n",
    "# from sklearn.metrics import accuracy_score, classification_report\n",
    "\n",
    "# clf = XGBClassifier(objective='multi:softmax')\n",
    "\n",
    "# clf.fit(X_train_vect, y_train, verbose=True)\n",
    "\n",
    "# y_pred = clf.predict(X_test_vect)\n",
    "\n",
    "# print('accuracy %s' % accuracy_score(y_pred, y_test))\n",
    "# print(classification_report(y_test, y_pred))"
   ]
  },
  {
   "cell_type": "code",
   "execution_count": null,
   "metadata": {},
   "outputs": [],
   "source": [
    "from sklearn.linear_model import SGDClassifier\n",
    "from sklearn.model_selection import GridSearchCV\n",
    "\n",
    "sgd = SGDClassifier(loss='hinge', penalty='l2', alpha=1e-4, random_state=42, max_iter=18, tol=None)\n",
    "\n",
    "sgd.fit(X_train_vect, y_train)\n",
    "\n",
    "y_pred = sgd.predict(X_test_vect)\n",
    "\n",
    "print('accuracy %s' % accuracy_score(y_pred, y_test))\n",
    "print(classification_report(y_test, y_pred))"
   ]
  }
 ],
 "metadata": {
  "kernelspec": {
   "display_name": "Python 3.7.4 64-bit ('base': conda)",
   "language": "python",
   "name": "python37464bitbaseconda3f0d6be5914d434a9d7014ecd996a3a3"
  },
  "language_info": {
   "codemirror_mode": {
    "name": "ipython",
    "version": 3
   },
   "file_extension": ".py",
   "mimetype": "text/x-python",
   "name": "python",
   "nbconvert_exporter": "python",
   "pygments_lexer": "ipython3",
   "version": "3.7.4"
  }
 },
 "nbformat": 4,
 "nbformat_minor": 2
}
