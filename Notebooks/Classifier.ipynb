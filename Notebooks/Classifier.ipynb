{
 "cells": [
  {
   "cell_type": "markdown",
   "metadata": {},
   "source": [
    "### Tokenization and Removing Stopwords"
   ]
  },
  {
   "cell_type": "code",
   "execution_count": 1,
   "metadata": {},
   "outputs": [],
   "source": [
    "import pandas as pd\n",
    "import numpy as np\n",
    "import matplotlib.pyplot as plt\n",
    "import seaborn as sns\n",
    "import string\n",
    "import re\n",
    "import nltk\n",
    "from nltk.corpus import stopwords\n",
    "from nltk.tokenize import RegexpTokenizer\n",
    "from nltk.stem import WordNetLemmatizer\n",
    "from nltk.stem.porter import PorterStemmer"
   ]
  },
  {
   "cell_type": "code",
   "execution_count": 2,
   "metadata": {},
   "outputs": [
    {
     "data": {
      "text/html": [
       "<div>\n",
       "<style scoped>\n",
       "    .dataframe tbody tr th:only-of-type {\n",
       "        vertical-align: middle;\n",
       "    }\n",
       "\n",
       "    .dataframe tbody tr th {\n",
       "        vertical-align: top;\n",
       "    }\n",
       "\n",
       "    .dataframe thead th {\n",
       "        text-align: right;\n",
       "    }\n",
       "</style>\n",
       "<table border=\"1\" class=\"dataframe\">\n",
       "  <thead>\n",
       "    <tr style=\"text-align: right;\">\n",
       "      <th></th>\n",
       "      <th>flair</th>\n",
       "      <th>text</th>\n",
       "    </tr>\n",
       "  </thead>\n",
       "  <tbody>\n",
       "    <tr>\n",
       "      <td>0</td>\n",
       "      <td>[R]eddiquette</td>\n",
       "      <td>Will donate thrice the number of upvotes (amou...</td>\n",
       "    </tr>\n",
       "    <tr>\n",
       "      <td>1</td>\n",
       "      <td>/r/all</td>\n",
       "      <td>Indian reply to NYtimes cartoon on Paris clima...</td>\n",
       "    </tr>\n",
       "  </tbody>\n",
       "</table>\n",
       "</div>"
      ],
      "text/plain": [
       "           flair                                               text\n",
       "0  [R]eddiquette  Will donate thrice the number of upvotes (amou...\n",
       "1         /r/all  Indian reply to NYtimes cartoon on Paris clima..."
      ]
     },
     "execution_count": 2,
     "metadata": {},
     "output_type": "execute_result"
    }
   ],
   "source": [
    "rawData = pd.read_csv(\"/Users/skhiearth/Desktop/Reddit-Flair-Detection/RedditData/Data/raw.csv\")\n",
    "rawData.head()\n",
    "\n",
    "rawData = rawData[rawData['flair'].notna()]\n",
    "rawData[\"body\"].fillna(\"\", inplace = True)\n",
    "rawData[\"title\"].fillna(\"\", inplace = True)\n",
    "\n",
    "rawData[\"text\"] = rawData[\"title\"] + \" \" + rawData[\"body\"]\n",
    "\n",
    "rawData.drop(['title', 'id', 'url', 'body'], axis = 1, inplace=True) \n",
    "rawData.head(2)"
   ]
  },
  {
   "cell_type": "code",
   "execution_count": 3,
   "metadata": {},
   "outputs": [],
   "source": [
    "bad_chars = ['/r', 'r/', '[R]'] \n",
    "for i in bad_chars : \n",
    "    rawData['flair'] = rawData['flair'].str.replace(i, '')"
   ]
  },
  {
   "cell_type": "code",
   "execution_count": 4,
   "metadata": {},
   "outputs": [],
   "source": [
    "def remove_punctuation(text):\n",
    "    no_punct = \"\".join([c for c in text if c not in string.punctuation])\n",
    "    return no_punct\n",
    "\n",
    "rawData['text'] = rawData['text'].apply(lambda x:remove_punctuation(x))\n",
    "rawData['flair'] = rawData['flair'].apply(lambda x:remove_punctuation(x))"
   ]
  },
  {
   "cell_type": "code",
   "execution_count": 5,
   "metadata": {},
   "outputs": [],
   "source": [
    "# tokenizer = RegexpTokenizer(r'\\w+')\n",
    "# rawData['text'] = rawData['text'].apply(lambda x: tokenizer.tokenize(x.lower()))\n",
    "# rawData['flair'] = rawData['flair'].apply(lambda x: tokenizer.tokenize(x.lower()))\n",
    "\n",
    "# def remove_stopwords(text):\n",
    "#     words = [w for w in text if w not in stopwords.words('english')]\n",
    "#     return words\n",
    "\n",
    "# rawData['text'] = rawData['text'].apply(lambda x:remove_stopwords(x))\n",
    "# rawData['flair'] = rawData['flair'].apply(lambda x:remove_stopwords(x))"
   ]
  },
  {
   "cell_type": "code",
   "execution_count": 6,
   "metadata": {},
   "outputs": [
    {
     "data": {
      "text/html": [
       "<div>\n",
       "<style scoped>\n",
       "    .dataframe tbody tr th:only-of-type {\n",
       "        vertical-align: middle;\n",
       "    }\n",
       "\n",
       "    .dataframe tbody tr th {\n",
       "        vertical-align: top;\n",
       "    }\n",
       "\n",
       "    .dataframe thead th {\n",
       "        text-align: right;\n",
       "    }\n",
       "</style>\n",
       "<table border=\"1\" class=\"dataframe\">\n",
       "  <thead>\n",
       "    <tr style=\"text-align: right;\">\n",
       "      <th></th>\n",
       "      <th>flair</th>\n",
       "      <th>text</th>\n",
       "      <th>flair_id</th>\n",
       "    </tr>\n",
       "  </thead>\n",
       "  <tbody>\n",
       "    <tr>\n",
       "      <td>0</td>\n",
       "      <td>eddiquette</td>\n",
       "      <td>Will donate thrice the number of upvotes amoun...</td>\n",
       "      <td>0</td>\n",
       "    </tr>\n",
       "    <tr>\n",
       "      <td>1</td>\n",
       "      <td>all</td>\n",
       "      <td>Indian reply to NYtimes cartoon on Paris clima...</td>\n",
       "      <td>1</td>\n",
       "    </tr>\n",
       "  </tbody>\n",
       "</table>\n",
       "</div>"
      ],
      "text/plain": [
       "        flair                                               text  flair_id\n",
       "0  eddiquette  Will donate thrice the number of upvotes amoun...         0\n",
       "1         all  Indian reply to NYtimes cartoon on Paris clima...         1"
      ]
     },
     "execution_count": 6,
     "metadata": {},
     "output_type": "execute_result"
    }
   ],
   "source": [
    "from io import StringIO\n",
    "\n",
    "rawData['flair_id'] = rawData['flair'].factorize()[0]\n",
    "category_id_df = rawData[['flair', 'flair_id']].drop_duplicates().sort_values('flair_id')\n",
    "category_to_id = dict(category_id_df.values)\n",
    "id_to_category = dict(category_id_df[['flair', 'flair_id']].values)\n",
    "rawData.head(2)"
   ]
  },
  {
   "cell_type": "code",
   "execution_count": 7,
   "metadata": {},
   "outputs": [
    {
     "data": {
      "text/plain": [
       "34"
      ]
     },
     "execution_count": 7,
     "metadata": {},
     "output_type": "execute_result"
    }
   ],
   "source": [
    "flairs = []\n",
    "\n",
    "column_values = rawData['flair'].values\n",
    "unique_values =  np.unique(column_values)\n",
    "\n",
    "for _flair in unique_values:\n",
    "    flairs.append(_flair)\n",
    "\n",
    "len(flairs)"
   ]
  },
  {
   "cell_type": "code",
   "execution_count": 8,
   "metadata": {},
   "outputs": [
    {
     "data": {
      "image/png": "[encoded data removed]",
      "text/plain": [
       "<Figure size 720x288 with 1 Axes>"
      ]
     },
     "metadata": {
      "needs_background": "light"
     },
     "output_type": "display_data"
    }
   ],
   "source": [
    "plt.figure(figsize=(10,4))\n",
    "rawData.flair.value_counts().plot(kind='bar');"
   ]
  },
  {
   "cell_type": "markdown",
   "metadata": {},
   "source": [
    "### Train-Test Split"
   ]
  },
  {
   "cell_type": "code",
   "execution_count": 9,
   "metadata": {},
   "outputs": [],
   "source": [
    "from sklearn.model_selection import train_test_split\n",
    "\n",
    "X = rawData.text\n",
    "y = rawData.flair_id\n",
    "X_train, X_test, y_train, y_test = train_test_split(X, y, test_size=0.3, random_state = 42)"
   ]
  },
  {
   "cell_type": "markdown",
   "metadata": {},
   "source": [
    "### Vectorization"
   ]
  },
  {
   "cell_type": "code",
   "execution_count": 10,
   "metadata": {},
   "outputs": [],
   "source": [
    "from sklearn.feature_extraction.text import TfidfVectorizer\n",
    "\n",
    "vect = TfidfVectorizer(stop_words='english').fit(X_train)\n",
    "\n",
    "tfidf_train = vect.transform(X_train)\n",
    "tfidf_test = vect.transform(X_test)\n",
    "\n",
    "X_train_vect = pd.DataFrame(tfidf_train.todense(), columns=vect.get_feature_names())\n",
    "X_test_vect = pd.DataFrame(tfidf_test.todense(), columns=vect.get_feature_names())\n",
    "\n",
    "# Used for fitting on the whole model later\n",
    "total_vect = TfidfVectorizer(stop_words='english').fit(rawData['text'])\n",
    "tfidf = total_vect.transform(rawData['text'])\n",
    "rawData_vect = pd.DataFrame(tfidf.todense(), columns=total_vect.get_feature_names())"
   ]
  },
  {
   "cell_type": "code",
   "execution_count": 11,
   "metadata": {},
   "outputs": [
    {
     "name": "stdout",
     "output_type": "stream",
     "text": [
      "X_train_vect has 690 rows and 5198 columns and y_train also has 690 rows.\n",
      "X_test_vect has 297 rows and 5198 columns and y_train also has 297 rows.\n"
     ]
    }
   ],
   "source": [
    "print(\"X_train_vect has {} rows and {} columns and y_train also has {} rows.\"\n",
    "      .format(X_train_vect.shape[0], X_train_vect.shape[1], y_train.shape[0]))\n",
    "\n",
    "print(\"X_test_vect has {} rows and {} columns and y_train also has {} rows.\"\n",
    "      .format(X_test_vect.shape[0], X_test_vect.shape[1], y_test.shape[0]))"
   ]
  },
  {
   "cell_type": "code",
   "execution_count": 28,
   "metadata": {},
   "outputs": [
    {
     "name": "stdout",
     "output_type": "stream",
     "text": [
      "accuracy 0.5589225589225589\n",
      "              precision    recall  f1-score   support\n",
      "\n",
      "           0       0.00      0.00      0.00         8\n",
      "           1       0.00      0.00      0.00         3\n",
      "           2       0.65      0.53      0.59        90\n",
      "           3       0.00      0.00      0.00         9\n",
      "           4       0.53      0.90      0.67       131\n",
      "           5       0.00      0.00      0.00         1\n",
      "           6       0.00      0.00      0.00         6\n",
      "           8       0.00      0.00      0.00         8\n",
      "           9       0.00      0.00      0.00         5\n",
      "          10       0.00      0.00      0.00         3\n",
      "          11       0.00      0.00      0.00         8\n",
      "          12       0.00      0.00      0.00         9\n",
      "          13       0.00      0.00      0.00         2\n",
      "          17       0.00      0.00      0.00         4\n",
      "          18       0.00      0.00      0.00         1\n",
      "          19       0.00      0.00      0.00         1\n",
      "          20       0.00      0.00      0.00         1\n",
      "          21       0.00      0.00      0.00         2\n",
      "          22       0.00      0.00      0.00         1\n",
      "          24       0.00      0.00      0.00         1\n",
      "          27       0.00      0.00      0.00         1\n",
      "          30       0.00      0.00      0.00         2\n",
      "\n",
      "    accuracy                           0.56       297\n",
      "   macro avg       0.05      0.07      0.06       297\n",
      "weighted avg       0.43      0.56      0.47       297\n",
      "\n"
     ]
    },
    {
     "name": "stderr",
     "output_type": "stream",
     "text": [
      "/opt/anaconda3/lib/python3.7/site-packages/sklearn/metrics/classification.py:1437: UndefinedMetricWarning: Precision and F-score are ill-defined and being set to 0.0 in labels with no predicted samples.\n",
      "  'precision', 'predicted', average, warn_for)\n"
     ]
    }
   ],
   "source": [
    "from sklearn.naive_bayes import MultinomialNB\n",
    "from sklearn.pipeline import Pipeline\n",
    "from sklearn.feature_extraction.text import TfidfTransformer\n",
    "from sklearn.feature_extraction.text import CountVectorizer, TfidfVectorizer\n",
    "from sklearn.metrics import accuracy_score, confusion_matrix\n",
    "\n",
    "clf = MultinomialNB(alpha=0.7, fit_prior=True, class_prior=None).fit(X_train_vect, y_train)\n",
    "\n",
    "from sklearn.metrics import classification_report\n",
    "y_pred = clf.predict(X_test_vect)\n",
    "\n",
    "print('accuracy %s' % accuracy_score(y_pred, y_test))\n",
    "print(classification_report(y_test, y_pred))"
   ]
  },
  {
   "cell_type": "code",
   "execution_count": 13,
   "metadata": {},
   "outputs": [
    {
     "name": "stdout",
     "output_type": "stream",
     "text": [
      "accuracy 0.48484848484848486\n",
      "              precision    recall  f1-score   support\n",
      "\n",
      "           0       0.00      0.00      0.00         8\n",
      "           1       0.00      0.00      0.00         3\n",
      "           2       0.40      0.77      0.53        90\n",
      "           3       0.60      0.33      0.43         9\n",
      "           4       0.62      0.50      0.55       131\n",
      "           5       0.00      0.00      0.00         1\n",
      "           6       0.00      0.00      0.00         6\n",
      "           8       0.67      0.25      0.36         8\n",
      "           9       0.00      0.00      0.00         5\n",
      "          10       0.00      0.00      0.00         3\n",
      "          11       1.00      0.38      0.55         8\n",
      "          12       0.25      0.11      0.15         9\n",
      "          13       0.00      0.00      0.00         2\n",
      "          17       0.00      0.00      0.00         4\n",
      "          18       0.00      0.00      0.00         1\n",
      "          19       1.00      1.00      1.00         1\n",
      "          20       0.00      0.00      0.00         1\n",
      "          21       0.00      0.00      0.00         2\n",
      "          22       0.00      0.00      0.00         1\n",
      "          24       0.00      0.00      0.00         1\n",
      "          27       0.00      0.00      0.00         1\n",
      "          30       0.00      0.00      0.00         2\n",
      "\n",
      "    accuracy                           0.48       297\n",
      "   macro avg       0.21      0.15      0.16       297\n",
      "weighted avg       0.47      0.48      0.45       297\n",
      "\n"
     ]
    },
    {
     "name": "stderr",
     "output_type": "stream",
     "text": [
      "/opt/anaconda3/lib/python3.7/site-packages/sklearn/linear_model/logistic.py:432: FutureWarning: Default solver will be changed to 'lbfgs' in 0.22. Specify a solver to silence this warning.\n",
      "  FutureWarning)\n",
      "/opt/anaconda3/lib/python3.7/site-packages/sklearn/linear_model/logistic.py:469: FutureWarning: Default multi_class will be changed to 'auto' in 0.22. Specify the multi_class option to silence this warning.\n",
      "  \"this warning.\", FutureWarning)\n",
      "/opt/anaconda3/lib/python3.7/site-packages/sklearn/metrics/classification.py:1437: UndefinedMetricWarning: Precision and F-score are ill-defined and being set to 0.0 in labels with no predicted samples.\n",
      "  'precision', 'predicted', average, warn_for)\n"
     ]
    }
   ],
   "source": [
    "from sklearn.linear_model import LogisticRegression\n",
    "\n",
    "logreg = LogisticRegression(n_jobs=1, C=1e5).fit(X_train_vect, y_train)\n",
    "\n",
    "from sklearn.metrics import classification_report\n",
    "y_pred = logreg.predict(X_test_vect)\n",
    "\n",
    "print('accuracy %s' % accuracy_score(y_pred, y_test))\n",
    "print(classification_report(y_test, y_pred))"
   ]
  },
  {
   "cell_type": "markdown",
   "metadata": {},
   "source": [
    "### Classification"
   ]
  },
  {
   "cell_type": "code",
   "execution_count": 14,
   "metadata": {},
   "outputs": [
    {
     "name": "stdout",
     "output_type": "stream",
     "text": [
      "accuracy 0.45791245791245794\n",
      "              precision    recall  f1-score   support\n",
      "\n",
      "           0       0.00      0.00      0.00         8\n",
      "           1       0.00      0.00      0.00         3\n",
      "           2       0.40      0.73      0.52        90\n",
      "           3       1.00      0.11      0.20         9\n",
      "           4       0.54      0.52      0.53       131\n",
      "           5       0.00      0.00      0.00         1\n",
      "           6       0.00      0.00      0.00         6\n",
      "           8       0.50      0.12      0.20         8\n",
      "           9       0.00      0.00      0.00         5\n",
      "          10       0.00      0.00      0.00         3\n",
      "          11       0.00      0.00      0.00         8\n",
      "          12       0.00      0.00      0.00         9\n",
      "          13       0.00      0.00      0.00         2\n",
      "          17       0.00      0.00      0.00         4\n",
      "          18       0.00      0.00      0.00         1\n",
      "          19       0.00      0.00      0.00         1\n",
      "          20       0.00      0.00      0.00         1\n",
      "          21       0.00      0.00      0.00         2\n",
      "          22       0.00      0.00      0.00         1\n",
      "          24       0.00      0.00      0.00         1\n",
      "          27       0.00      0.00      0.00         1\n",
      "          30       0.00      0.00      0.00         2\n",
      "\n",
      "    accuracy                           0.46       297\n",
      "   macro avg       0.11      0.07      0.07       297\n",
      "weighted avg       0.40      0.46      0.40       297\n",
      "\n"
     ]
    },
    {
     "name": "stderr",
     "output_type": "stream",
     "text": [
      "/opt/anaconda3/lib/python3.7/site-packages/sklearn/metrics/classification.py:1437: UndefinedMetricWarning: Precision and F-score are ill-defined and being set to 0.0 in labels with no predicted samples.\n",
      "  'precision', 'predicted', average, warn_for)\n"
     ]
    }
   ],
   "source": [
    "from sklearn.ensemble import RandomForestClassifier, GradientBoostingClassifier\n",
    "from sklearn.naive_bayes import GaussianNB\n",
    "from sklearn.metrics import confusion_matrix\n",
    "\n",
    "rf = RandomForestClassifier(n_estimators=50, max_depth=None, n_jobs=-1).fit(X_train_vect, y_train)\n",
    "\n",
    "from sklearn.metrics import classification_report\n",
    "y_pred = rf.predict(X_test_vect)\n",
    "\n",
    "print('accuracy %s' % accuracy_score(y_pred, y_test))\n",
    "print(classification_report(y_test, y_pred))"
   ]
  }
 ],
 "metadata": {
  "kernelspec": {
   "display_name": "Python 3.7.4 64-bit ('base': conda)",
   "language": "python",
   "name": "python37464bitbaseconda3f0d6be5914d434a9d7014ecd996a3a3"
  },
  "language_info": {
   "codemirror_mode": {
    "name": "ipython",
    "version": 3
   },
   "file_extension": ".py",
   "mimetype": "text/x-python",
   "name": "python",
   "nbconvert_exporter": "python",
   "pygments_lexer": "ipython3",
   "version": "3.7.4"
  }
 },
 "nbformat": 4,
 "nbformat_minor": 2
}
